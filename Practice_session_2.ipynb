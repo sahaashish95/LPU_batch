{
 "cells": [
  {
   "cell_type": "code",
   "execution_count": null,
   "id": "9879d932",
   "metadata": {},
   "outputs": [],
   "source": [
    "a='hi welcome to the python class and lpu is the new batch of machine python'\n",
    "a={'h':4,'i':3}\n",
    "want to print a dictionary using this string in which key will charcters and there value is no of time present in string"
   ]
  },
  {
   "cell_type": "code",
   "execution_count": 3,
   "id": "e8d8b77a",
   "metadata": {},
   "outputs": [
    {
     "name": "stdout",
     "output_type": "stream",
     "text": [
      "{'h': 7, 'i': 3, 'w': 2, 'e': 6, 'l': 3, 'c': 4, 'o': 5, 'm': 2, 't': 6, 'p': 3, 'y': 2, 'n': 5, 'a': 4, 's': 3, 'd': 1, 'u': 1, 'b': 1, 'f': 1}\n"
     ]
    }
   ],
   "source": [
    "a = 'hi welcome to the python class and lpu is the new batch of machine python'\n",
    "d = {}\n",
    "for c in a:\n",
    "    if c in d:\n",
    "        d[c] += 1\n",
    "    else:\n",
    "        d[c] = 1\n",
    "d.pop(\" \")\n",
    "print(d)"
   ]
  },
  {
   "cell_type": "code",
   "execution_count": 4,
   "id": "41d7dcff",
   "metadata": {},
   "outputs": [
    {
     "data": {
      "text/plain": [
       "{'hi': 3, 'this': 3}"
      ]
     },
     "execution_count": 4,
     "metadata": {},
     "output_type": "execute_result"
    }
   ],
   "source": [
    "a='hi this  is vikas, hi this is lpu, hi this is upgrad'\n",
    "{'hi':3,'this':3}\n",
    "want to print a dictionary using this string in which key words and there value is no of time present in string"
   ]
  },
  {
   "cell_type": "code",
   "execution_count": 5,
   "id": "393a4e44",
   "metadata": {},
   "outputs": [
    {
     "data": {
      "text/plain": [
       "['hi',\n",
       " 'this',\n",
       " 'is',\n",
       " 'vikas,',\n",
       " 'hi',\n",
       " 'this',\n",
       " 'is',\n",
       " 'lpu,',\n",
       " 'hi',\n",
       " 'this',\n",
       " 'is',\n",
       " 'upgrad']"
      ]
     },
     "execution_count": 5,
     "metadata": {},
     "output_type": "execute_result"
    }
   ],
   "source": [
    "a='hi this  is vikas, hi this is lpu, hi this is upgrad'\n",
    "a.split()"
   ]
  },
  {
   "cell_type": "code",
   "execution_count": 7,
   "id": "0bd87794",
   "metadata": {},
   "outputs": [
    {
     "data": {
      "text/plain": [
       "{'hi': 3, 'this': 3, 'is': 3, 'vikas,': 1, 'lpu,': 1, 'upgrad': 1}"
      ]
     },
     "execution_count": 7,
     "metadata": {},
     "output_type": "execute_result"
    }
   ],
   "source": [
    "a='hi this  is vikas, hi this is lpu, hi this is upgrad'\n",
    "a=a.split()\n",
    "d = {}\n",
    "for c in a:\n",
    "    if c in d:\n",
    "        d[c] += 1\n",
    "    else:\n",
    "        d[c] = 1\n",
    "d"
   ]
  },
  {
   "cell_type": "code",
   "execution_count": null,
   "id": "4ea65a25",
   "metadata": {},
   "outputs": [],
   "source": [
    "Write a Python program to get the top three items in a shop\n",
    "Sample data: {'item1': 45.50, 'item2':35, 'item3': 41.30, 'item4':55, 'item5': 24}\n",
    "Expected Output:\n",
    "item4 55\n",
    "item1 45.5\n",
    "item3 41.3"
   ]
  },
  {
   "cell_type": "code",
   "execution_count": 19,
   "id": "5ee3f863",
   "metadata": {},
   "outputs": [
    {
     "name": "stdout",
     "output_type": "stream",
     "text": [
      "[41.3, 45.5, 55]\n",
      "item1 45.5\n",
      "item3 41.3\n",
      "item4 55\n"
     ]
    }
   ],
   "source": [
    "f={'item1': 45.50, 'item2':35, 'item3': 41.30, 'item4':55, 'item5': 24}\n",
    "x=sorted(list(f.values()))\n",
    "x=x[-3:]\n",
    "print(x)\n",
    "for i in f:\n",
    "    if f[i] in x:\n",
    "        print(i,f[i])"
   ]
  },
  {
   "cell_type": "code",
   "execution_count": 22,
   "id": "e79fda25",
   "metadata": {},
   "outputs": [
    {
     "name": "stdout",
     "output_type": "stream",
     "text": [
      "[45.5, 35, 41.3, 55, 24] ['item1', 'item2', 'item3', 'item4', 'item5']\n",
      "3\n",
      "item4 55\n",
      "0\n",
      "item1 45.5\n",
      "1\n",
      "item3 41.3\n"
     ]
    }
   ],
   "source": [
    "dic= {'item1': 45.50, 'item2':35, 'item3': 41.30, 'item4':55, 'item5': 24}\n",
    "l=list(dic.values())\n",
    "l2=list(dic.keys())\n",
    "print(l,l2)\n",
    "for i in range(0,3):\n",
    "    index=l.index(max(l))\n",
    "    print(index)\n",
    "    print(l2[index],max(l))\n",
    "    l.remove(max(l))\n",
    "    l2.remove(l2[index])"
   ]
  },
  {
   "cell_type": "code",
   "execution_count": null,
   "id": "d4ffcc51",
   "metadata": {},
   "outputs": [],
   "source": [
    "[{'id' : 1, 'subject' : 'math', 'V' : 70, 'VI' : 82},\n",
    "{'id' : 2, 'subject' : 'math', 'V' : 73, 'VI' : 74},\n",
    "{'id' : 3, 'subject' : 'math', 'V' : 75, 'VI' : 86}]\n",
    "\n",
    "output=[{'subject': 'math', 'id': 1, 'V+VI': 76.0}, {'subject': 'math', 'id': 2, 'V+VI': 73.5}, {'subject': 'math', '\n",
    "id': 3, 'V+VI': 80.5}]\n",
    "                                                                                          \n",
    "make a function that will replace the subject with the average  marks"
   ]
  },
  {
   "cell_type": "code",
   "execution_count": 23,
   "id": "5aba6358",
   "metadata": {},
   "outputs": [
    {
     "name": "stdout",
     "output_type": "stream",
     "text": [
      "[{'id': 1, 'subject': 'math', 'V+VI': 76.0}, {'id': 2, 'subject': 'math', 'V+VI': 73.5}, {'id': 3, 'subject': 'math', 'V+VI': 80.5}]\n"
     ]
    }
   ],
   "source": [
    "def sum_math_v_vi_average(list_of_dicts):\n",
    "    for d in list_of_dicts:\n",
    "        n1 = d.pop('V')\n",
    "        n2 = d.pop('VI')\n",
    "        d['V+VI'] = (n1 + n2)/2\n",
    "    return list_of_dicts \n",
    "student_details= [\n",
    "  {'id' : 1, 'subject' : 'math', 'V' : 70, 'VI' : 82},\n",
    "  {'id' : 2, 'subject' : 'math', 'V' : 73, 'VI' : 74},\n",
    "  {'id' : 3, 'subject' : 'math', 'V' : 75, 'VI' : 86}\n",
    "]\n",
    "print(sum_math_v_vi_average(student_details))"
   ]
  },
  {
   "cell_type": "code",
   "execution_count": null,
   "id": "15f9acf8",
   "metadata": {},
   "outputs": [],
   "source": []
  }
 ],
 "metadata": {
  "kernelspec": {
   "display_name": "Python 3",
   "language": "python",
   "name": "python3"
  },
  "language_info": {
   "codemirror_mode": {
    "name": "ipython",
    "version": 3
   },
   "file_extension": ".py",
   "mimetype": "text/x-python",
   "name": "python",
   "nbconvert_exporter": "python",
   "pygments_lexer": "ipython3",
   "version": "3.8.8"
  }
 },
 "nbformat": 4,
 "nbformat_minor": 5
}
