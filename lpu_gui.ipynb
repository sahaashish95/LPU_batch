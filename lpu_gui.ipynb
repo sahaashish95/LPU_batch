{
 "cells": [
  {
   "cell_type": "code",
   "execution_count": 2,
   "id": "7c5f35cf",
   "metadata": {},
   "outputs": [],
   "source": [
    "#showing hello world in gui screen with the help of pack method \n",
    "from tkinter import *\n",
    "root=Tk()\n",
    "w=Label(root,text='hello world')\n",
    "w.pack()\n",
    "w=Label(root,text='hello world1')\n",
    "w.pack()\n",
    "w=Label(root,text='hello world2')\n",
    "w.pack()\n",
    "root.mainloop()"
   ]
  },
  {
   "cell_type": "code",
   "execution_count": 1,
   "id": "b8ce8624",
   "metadata": {},
   "outputs": [
    {
     "ename": "KeyboardInterrupt",
     "evalue": "",
     "output_type": "error",
     "traceback": [
      "\u001b[1;31m---------------------------------------------------------------------------\u001b[0m",
      "\u001b[1;31mKeyboardInterrupt\u001b[0m                         Traceback (most recent call last)",
      "\u001b[1;32m<ipython-input-1-1b6c173a1b86>\u001b[0m in \u001b[0;36m<module>\u001b[1;34m\u001b[0m\n\u001b[0;32m      8\u001b[0m \u001b[0mw\u001b[0m\u001b[1;33m=\u001b[0m\u001b[0mLabel\u001b[0m\u001b[1;33m(\u001b[0m\u001b[0mroot\u001b[0m\u001b[1;33m,\u001b[0m\u001b[0mtext\u001b[0m\u001b[1;33m=\u001b[0m\u001b[1;34m'hello world'\u001b[0m\u001b[1;33m)\u001b[0m\u001b[1;33m\u001b[0m\u001b[1;33m\u001b[0m\u001b[0m\n\u001b[0;32m      9\u001b[0m \u001b[0mw\u001b[0m\u001b[1;33m.\u001b[0m\u001b[0mplace\u001b[0m\u001b[1;33m(\u001b[0m\u001b[0mx\u001b[0m\u001b[1;33m=\u001b[0m\u001b[1;36m300\u001b[0m\u001b[1;33m,\u001b[0m\u001b[0my\u001b[0m\u001b[1;33m=\u001b[0m\u001b[1;36m300\u001b[0m\u001b[1;33m)\u001b[0m\u001b[1;33m\u001b[0m\u001b[1;33m\u001b[0m\u001b[0m\n\u001b[1;32m---> 10\u001b[1;33m \u001b[0mroot\u001b[0m\u001b[1;33m.\u001b[0m\u001b[0mmainloop\u001b[0m\u001b[1;33m(\u001b[0m\u001b[1;33m)\u001b[0m\u001b[1;33m\u001b[0m\u001b[1;33m\u001b[0m\u001b[0m\n\u001b[0m",
      "\u001b[1;32m~\\anaconda3\\lib\\tkinter\\__init__.py\u001b[0m in \u001b[0;36mmainloop\u001b[1;34m(self, n)\u001b[0m\n\u001b[0;32m   1427\u001b[0m     \u001b[1;32mdef\u001b[0m \u001b[0mmainloop\u001b[0m\u001b[1;33m(\u001b[0m\u001b[0mself\u001b[0m\u001b[1;33m,\u001b[0m \u001b[0mn\u001b[0m\u001b[1;33m=\u001b[0m\u001b[1;36m0\u001b[0m\u001b[1;33m)\u001b[0m\u001b[1;33m:\u001b[0m\u001b[1;33m\u001b[0m\u001b[1;33m\u001b[0m\u001b[0m\n\u001b[0;32m   1428\u001b[0m         \u001b[1;34m\"\"\"Call the mainloop of Tk.\"\"\"\u001b[0m\u001b[1;33m\u001b[0m\u001b[1;33m\u001b[0m\u001b[0m\n\u001b[1;32m-> 1429\u001b[1;33m         \u001b[0mself\u001b[0m\u001b[1;33m.\u001b[0m\u001b[0mtk\u001b[0m\u001b[1;33m.\u001b[0m\u001b[0mmainloop\u001b[0m\u001b[1;33m(\u001b[0m\u001b[0mn\u001b[0m\u001b[1;33m)\u001b[0m\u001b[1;33m\u001b[0m\u001b[1;33m\u001b[0m\u001b[0m\n\u001b[0m\u001b[0;32m   1430\u001b[0m \u001b[1;33m\u001b[0m\u001b[0m\n\u001b[0;32m   1431\u001b[0m     \u001b[1;32mdef\u001b[0m \u001b[0mquit\u001b[0m\u001b[1;33m(\u001b[0m\u001b[0mself\u001b[0m\u001b[1;33m)\u001b[0m\u001b[1;33m:\u001b[0m\u001b[1;33m\u001b[0m\u001b[1;33m\u001b[0m\u001b[0m\n",
      "\u001b[1;31mKeyboardInterrupt\u001b[0m: "
     ]
    }
   ],
   "source": [
    "#showing hello world in gui screen with the help of pack method \n",
    "from tkinter import *\n",
    "root=Tk()\n",
    "w=Label(root,text='hello world')\n",
    "w.place(x=100,y=30)\n",
    "w=Label(root,text='hello world')\n",
    "w.place(x=200,y=30)\n",
    "w=Label(root,text='hello world')\n",
    "w.place(x=300,y=300)\n",
    "root.mainloop()"
   ]
  },
  {
   "cell_type": "code",
   "execution_count": 1,
   "id": "5f8616a3",
   "metadata": {},
   "outputs": [],
   "source": [
    "#showing hello world in gui screen with the help of pack method \n",
    "from tkinter import *\n",
    "root=Tk()\n",
    "w=Label(root,text='hello world')\n",
    "w.grid(row=0,column=0)\n",
    "w=Label(root,text='hello world')\n",
    "w.grid(row=0,column=1)\n",
    "w=Label(root,text='hello world')\n",
    "w.grid(row=1,column=0)\n",
    "root.mainloop()"
   ]
  },
  {
   "cell_type": "code",
   "execution_count": 6,
   "id": "bd85aa01",
   "metadata": {},
   "outputs": [],
   "source": [
    "#Button widget and changing dimensio of window\n",
    "from tkinter import *\n",
    "root=Tk()\n",
    "root.title('Button')\n",
    "root.geometry(\"700x300\")\n",
    "w=Label(root,text='Welcome to the python classes')\n",
    "w.pack()\n",
    "button = Button(root, text='Stop', width=25,command=root.destroy)\n",
    "button.pack()\n",
    "root.mainloop()"
   ]
  },
  {
   "cell_type": "code",
   "execution_count": 9,
   "id": "1f89fd52",
   "metadata": {},
   "outputs": [],
   "source": [
    "from tkinter import *\n",
    "root=Tk()\n",
    "root.title('Button')\n",
    "root.geometry(\"700x300\")\n",
    "def welcome():\n",
    "    dyna.config(text='welcome to python class')\n",
    "    #print('welcome to python class')\n",
    "dyna=Label()\n",
    "dyna.pack()\n",
    "button = Button(root, text='Stop', width=25,command=welcome)\n",
    "button.pack()\n",
    "root.mainloop()"
   ]
  },
  {
   "cell_type": "code",
   "execution_count": 10,
   "id": "ebec62b8",
   "metadata": {},
   "outputs": [
    {
     "data": {
      "text/plain": [
       "3145"
      ]
     },
     "execution_count": 10,
     "metadata": {},
     "output_type": "execute_result"
    }
   ],
   "source": [
    "#partial function\n",
    "from functools import partial\n",
    "  \n",
    "# A normal function\n",
    "def f(a, b, c, x):\n",
    "    return 1000*a + 100*b + 10*c + x\n",
    "  \n",
    "# A partial function that calls f with\n",
    "# a as 3, b as 1 and c as 4.\n",
    "g = partial(f, 3, 1, 4,5)\n",
    "  \n",
    "# Calling g()\n",
    "#print(g(5))\n",
    "g()"
   ]
  },
  {
   "cell_type": "code",
   "execution_count": 12,
   "id": "258d8e56",
   "metadata": {},
   "outputs": [],
   "source": [
    "from tkinter import *\n",
    "root=Tk()\n",
    "root.title('Button')\n",
    "root.geometry(\"700x300\")\n",
    "def welcome(g):\n",
    "    dyna.config(text='welcome to python class {}'.format(g))\n",
    "    #print('welcome to python class')\n",
    "dyna=Label()\n",
    "dyna.pack()\n",
    "x='lpu'\n",
    "g = partial(welcome,x)\n",
    "button = Button(root, text='Stop', width=25,command=g)\n",
    "button.pack()\n",
    "root.mainloop()"
   ]
  },
  {
   "cell_type": "code",
   "execution_count": 14,
   "id": "7d8896a2",
   "metadata": {},
   "outputs": [],
   "source": [
    "#Entry method\n",
    "from tkinter import *\n",
    "master = Tk()\n",
    "Label(master, text='First Name').grid(row=0)\n",
    "Label(master, text='Last Name').grid(row=1)\n",
    "e1 = Entry(master)\n",
    "e2 = Entry(master)\n",
    "e1.grid(row=0, column=1)\n",
    "e2.grid(row=1, column=1)\n",
    "mainloop()"
   ]
  },
  {
   "cell_type": "markdown",
   "id": "15e00f40",
   "metadata": {},
   "source": [
    "dictionary is key value pair"
   ]
  },
  {
   "cell_type": "code",
   "execution_count": null,
   "id": "326ff6c0",
   "metadata": {},
   "outputs": [
    {
     "name": "stdout",
     "output_type": "stream",
     "text": [
      "<class 'bool'>\n",
      "True\n",
      "<class 'bool'>\n",
      "False\n"
     ]
    },
    {
     "name": "stderr",
     "output_type": "stream",
     "text": [
      "Exception in Tkinter callback\n",
      "Traceback (most recent call last):\n",
      "  File \"C:\\Users\\ashish saha\\anaconda3\\lib\\tkinter\\__init__.py\", line 596, in get\n",
      "    return self._tk.getboolean(self._tk.globalgetvar(self._name))\n",
      "_tkinter.TclError: expected boolean value but got \"34\"\n",
      "\n",
      "During handling of the above exception, another exception occurred:\n",
      "\n",
      "Traceback (most recent call last):\n",
      "  File \"C:\\Users\\ashish saha\\anaconda3\\lib\\tkinter\\__init__.py\", line 1892, in __call__\n",
      "    return self.func(*args)\n",
      "  File \"<ipython-input-22-bff9a97f801e>\", line 7, in call_result\n",
      "    label_result.config(text=number1.get())\n",
      "  File \"C:\\Users\\ashish saha\\anaconda3\\lib\\tkinter\\__init__.py\", line 598, in get\n",
      "    raise ValueError(\"invalid literal for getboolean()\")\n",
      "ValueError: invalid literal for getboolean()\n"
     ]
    }
   ],
   "source": [
    "#VAriables and partial function\n",
    "from tkinter import *\n",
    "import tkinter as tk \n",
    "from functools import partial\n",
    "\n",
    "def call_result(label_result,number1):\n",
    "    label_result.config(text=number1.get()) \n",
    "    print(type(number1.get()))\n",
    "    print(number1.get())\n",
    "    return\n",
    "\n",
    "root = Tk() \n",
    "root.geometry('400x200+100+200')\n",
    "\n",
    "#variables\n",
    "#number1 = StringVar()\n",
    "#number1 = IntVar()\n",
    "#number1 =DoubleVar()\n",
    "number1=BooleanVar()\n",
    "\n",
    "labelResult = Label(root)\n",
    "labelResult.grid(row=7, column=2)\n",
    "\n",
    "entryNum1 = Entry(root, textvariable=number1).grid(row=1, column=2)\n",
    "call_result = partial(call_result, labelResult, number1)\n",
    "buttonCal = Button(root, text=\"Calculate\", command=call_result).grid(row=5, column=0)\n",
    "root.mainloop()"
   ]
  },
  {
   "cell_type": "code",
   "execution_count": null,
   "id": "4134fd14",
   "metadata": {},
   "outputs": [],
   "source": []
  }
 ],
 "metadata": {
  "kernelspec": {
   "display_name": "Python 3",
   "language": "python",
   "name": "python3"
  },
  "language_info": {
   "codemirror_mode": {
    "name": "ipython",
    "version": 3
   },
   "file_extension": ".py",
   "mimetype": "text/x-python",
   "name": "python",
   "nbconvert_exporter": "python",
   "pygments_lexer": "ipython3",
   "version": "3.8.8"
  }
 },
 "nbformat": 4,
 "nbformat_minor": 5
}
