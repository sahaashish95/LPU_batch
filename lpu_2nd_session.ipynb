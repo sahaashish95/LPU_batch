{
 "cells": [
  {
   "cell_type": "markdown",
   "metadata": {},
   "source": [
    "<h2 style=\"color:Brown\"> Variables</h2>\n",
    "\n",
    "    "
   ]
  },
  {
   "cell_type": "code",
   "execution_count": null,
   "metadata": {},
   "outputs": [],
   "source": [
    "name = \"mike\"\n",
    "print(name)"
   ]
  },
  {
   "cell_type": "code",
   "execution_count": 3,
   "metadata": {},
   "outputs": [
    {
     "name": "stdout",
     "output_type": "stream",
     "text": [
      "Enter your name : Jane\n",
      "Welcome Jane\n"
     ]
    }
   ],
   "source": [
    "name = input(\"Enter your name : \")\n",
    "print(\"Welcome\", name)"
   ]
  },
  {
   "cell_type": "markdown",
   "metadata": {},
   "source": [
    "<h2 style=\"color:Brown\"> Data Types in Python"
   ]
  },
  {
   "cell_type": "markdown",
   "metadata": {},
   "source": [
    "- Here in the below piece of code you can see that we have assigned each variable with a particular value and use the type method we can check the datatype of the variable"
   ]
  },
  {
   "cell_type": "code",
   "execution_count": null,
   "metadata": {},
   "outputs": [],
   "source": [
    "integer_num = 1\n",
    "floating_num = 1.3\n",
    "string = 'Mike'\n",
    "boolean = True\n",
    "\n",
    "print (type(integer_num))\n",
    "print (type(floating_num))\n",
    "print (type(string))\n",
    "print (type(boolean))"
   ]
  },
  {
   "cell_type": "markdown",
   "metadata": {},
   "source": [
    "- Type Casting in Python"
   ]
  },
  {
   "cell_type": "code",
   "execution_count": 4,
   "metadata": {},
   "outputs": [
    {
     "name": "stdout",
     "output_type": "stream",
     "text": [
      "True\n",
      "1.0\n",
      "1\n"
     ]
    }
   ],
   "source": [
    "a = 1\n",
    "print ( bool(a))\n",
    "print ( float(a))\n",
    "print ( str(a))"
   ]
  },
  {
   "cell_type": "markdown",
   "metadata": {},
   "source": [
    "<h2 style=\"color:Brown\"> Arithmatic Operations"
   ]
  },
  {
   "cell_type": "code",
   "execution_count": 5,
   "metadata": {
    "scrolled": true
   },
   "outputs": [
    {
     "name": "stdout",
     "output_type": "stream",
     "text": [
      "Addition  =  13\n",
      "Substraction =  -1\n",
      "Multiplication =  42\n",
      "Division =  0.8571428571428571\n"
     ]
    }
   ],
   "source": [
    "a = 6\n",
    "b = 7\n",
    "print(\"Addition  = \", a + b)  \n",
    "print(\"Substraction = \", a - b) \n",
    "print(\"Multiplication = \", a * b) \n",
    "print(\"Division = \", a / b)"
   ]
  },
  {
   "cell_type": "code",
   "execution_count": 6,
   "metadata": {},
   "outputs": [
    {
     "name": "stdout",
     "output_type": "stream",
     "text": [
      "Floor Division =  0\n"
     ]
    }
   ],
   "source": [
    "#Floor Division\n",
    "print(\"Floor Division = \", a // b)"
   ]
  },
  {
   "cell_type": "code",
   "execution_count": 7,
   "metadata": {},
   "outputs": [
    {
     "name": "stdout",
     "output_type": "stream",
     "text": [
      "Modulus or remainder 6\n"
     ]
    }
   ],
   "source": [
    "#Remainder\n",
    "print(\"Modulus or remainder\",a % b)"
   ]
  },
  {
   "cell_type": "code",
   "execution_count": 8,
   "metadata": {},
   "outputs": [
    {
     "name": "stdout",
     "output_type": "stream",
     "text": [
      "Exponential =  279936\n"
     ]
    }
   ],
   "source": [
    "#Exponential\n",
    "print(\"Exponential = \", a ** b)"
   ]
  },
  {
   "cell_type": "markdown",
   "metadata": {},
   "source": [
    "- Expression executes following the operator precedence rule\n",
    "- https://docs.python.org/3.7/reference/expressions.html?#operator-precedence"
   ]
  },
  {
   "cell_type": "code",
   "execution_count": null,
   "metadata": {},
   "outputs": [],
   "source": [
    "print((4 * 5) - 9 + 6 / 7)"
   ]
  },
  {
   "cell_type": "markdown",
   "metadata": {},
   "source": [
    "<h2 style=\"color:Brown\"> String Operations"
   ]
  },
  {
   "cell_type": "code",
   "execution_count": 9,
   "metadata": {},
   "outputs": [],
   "source": [
    "#Whenever we are assigning a char or string we use '' which represents a character\n",
    "c = 'z'\n",
    "d = 'Mike'\n",
    "#You can also use \" \" double quotes instead of single quotes for strings\n",
    "e = \"John\""
   ]
  },
  {
   "cell_type": "markdown",
   "metadata": {},
   "source": [
    "#### Indexing In Strings <br>\n",
    "- Forward indexing starts with 0\n",
    "- Reverse indexing start with last character as -1 in a python string\n",
    "- Strings are immutable which means they cannot be changed once created.\n",
    "- Strings can be modified by slicing a part of it and concatenating with another\n"
   ]
  },
  {
   "cell_type": "code",
   "execution_count": 1,
   "metadata": {
    "scrolled": true
   },
   "outputs": [
    {
     "data": {
      "text/plain": [
       "8"
      ]
     },
     "execution_count": 1,
     "metadata": {},
     "output_type": "execute_result"
    }
   ],
   "source": [
    "# Len() function\n",
    "string = \"ABCDEFGH\"\n",
    "len(string)"
   ]
  },
  {
   "cell_type": "code",
   "execution_count": 2,
   "metadata": {},
   "outputs": [
    {
     "data": {
      "text/plain": [
       "'A'"
      ]
     },
     "execution_count": 2,
     "metadata": {},
     "output_type": "execute_result"
    }
   ],
   "source": [
    "#Accessing first character\n",
    "string[0]"
   ]
  },
  {
   "cell_type": "code",
   "execution_count": 3,
   "metadata": {},
   "outputs": [
    {
     "data": {
      "text/plain": [
       "'H'"
      ]
     },
     "execution_count": 3,
     "metadata": {},
     "output_type": "execute_result"
    }
   ],
   "source": [
    "#Accessing last character using negative indexing\n",
    "string[-1] "
   ]
  },
  {
   "cell_type": "code",
   "execution_count": 4,
   "metadata": {},
   "outputs": [
    {
     "ename": "TypeError",
     "evalue": "'str' object does not support item assignment",
     "output_type": "error",
     "traceback": [
      "\u001b[1;31m---------------------------------------------------------------------------\u001b[0m",
      "\u001b[1;31mTypeError\u001b[0m                                 Traceback (most recent call last)",
      "\u001b[1;32m<ipython-input-4-a4ff1a9fe63e>\u001b[0m in \u001b[0;36m<module>\u001b[1;34m\u001b[0m\n\u001b[0;32m      1\u001b[0m \u001b[1;31m# Trying to change the character at index 2\u001b[0m\u001b[1;33m\u001b[0m\u001b[1;33m\u001b[0m\u001b[1;33m\u001b[0m\u001b[0m\n\u001b[1;32m----> 2\u001b[1;33m \u001b[0mstring\u001b[0m\u001b[1;33m[\u001b[0m\u001b[1;36m2\u001b[0m\u001b[1;33m]\u001b[0m \u001b[1;33m=\u001b[0m \u001b[1;34m't'\u001b[0m\u001b[1;33m\u001b[0m\u001b[1;33m\u001b[0m\u001b[0m\n\u001b[0m",
      "\u001b[1;31mTypeError\u001b[0m: 'str' object does not support item assignment"
     ]
    }
   ],
   "source": [
    "# Trying to change the character at index 2\n",
    "string[2] = 't'\n"
   ]
  },
  {
   "cell_type": "code",
   "execution_count": 5,
   "metadata": {},
   "outputs": [
    {
     "name": "stdout",
     "output_type": "stream",
     "text": [
      "ghijkl\n"
     ]
    }
   ],
   "source": [
    "# Changing the entire string\n",
    "string = 'ghijkl'\n",
    "print (string)"
   ]
  },
  {
   "cell_type": "code",
   "execution_count": 6,
   "metadata": {},
   "outputs": [
    {
     "name": "stdout",
     "output_type": "stream",
     "text": [
      "Monty Python\n"
     ]
    }
   ],
   "source": [
    "#string concatenation\n",
    "\n",
    "first_name = \"Monty\"\n",
    "last_name = 'Python'\n",
    "\n",
    "name = first_name + \" \" + last_name\n",
    "print(name)"
   ]
  },
  {
   "cell_type": "code",
   "execution_count": 7,
   "metadata": {},
   "outputs": [
    {
     "name": "stdout",
     "output_type": "stream",
     "text": [
      "I am 30 years old\n"
     ]
    }
   ],
   "source": [
    "# type casting using str() function \n",
    "age = 30\n",
    "print(\"I am \"+ str(age) + \" years old\")"
   ]
  },
  {
   "cell_type": "markdown",
   "metadata": {},
   "source": [
    "#### Slicing In Strings\n",
    "- string[start:end:step]"
   ]
  },
  {
   "cell_type": "code",
   "execution_count": 8,
   "metadata": {},
   "outputs": [
    {
     "name": "stdout",
     "output_type": "stream",
     "text": [
      "Python \n"
     ]
    }
   ],
   "source": [
    "#slicing by specifying start and end index\n",
    "statement = \"Python programming is fun\"\n",
    "sliced_statement = statement[0:7]\n",
    "print(sliced_statement)"
   ]
  },
  {
   "cell_type": "code",
   "execution_count": 9,
   "metadata": {},
   "outputs": [
    {
     "name": "stdout",
     "output_type": "stream",
     "text": [
      "5 girls \n",
      "3 boys in a class\n"
     ]
    }
   ],
   "source": [
    "batch = \"5 girls 3 boys in a class\"\n",
    "girls = batch[ :8]\n",
    "print(girls)\n",
    "\n",
    "print(batch[ 8: ])"
   ]
  },
  {
   "cell_type": "code",
   "execution_count": 30,
   "metadata": {},
   "outputs": [
    {
     "name": "stdout",
     "output_type": "stream",
     "text": [
      "2468\n"
     ]
    }
   ],
   "source": [
    "# Slicing by specifing range\n",
    "\n",
    "nums = '123456789'\n",
    "even_nums = nums[1::2]\n",
    "print(even_nums)"
   ]
  },
  {
   "cell_type": "code",
   "execution_count": 31,
   "metadata": {},
   "outputs": [
    {
     "name": "stdout",
     "output_type": "stream",
     "text": [
      "13579\n"
     ]
    }
   ],
   "source": [
    "# printing odd_nums\n",
    "odd_nums = nums[0::2]\n",
    "print(odd_nums)\n"
   ]
  },
  {
   "cell_type": "code",
   "execution_count": 13,
   "metadata": {},
   "outputs": [
    {
     "name": "stdout",
     "output_type": "stream",
     "text": [
      "True\n",
      "True\n",
      "False\n"
     ]
    }
   ],
   "source": [
    "# Membership \n",
    "String = \"John! Did you attend the conference on advanced machine learning\"\n",
    "print( 'John' in String)\n",
    "print ( 'David' not in String)\n",
    "print ( 'ashu' in String)"
   ]
  },
  {
   "cell_type": "code",
   "execution_count": 14,
   "metadata": {},
   "outputs": [
    {
     "name": "stdout",
     "output_type": "stream",
     "text": [
      "abcdabcdabcdabcd\n"
     ]
    }
   ],
   "source": [
    "# Repeatition\n",
    "\n",
    "String = \"abcd\"\n",
    "print (String*4)"
   ]
  },
  {
   "cell_type": "markdown",
   "metadata": {},
   "source": [
    "#### String methods\n",
    "- upper()\n",
    "- lower()\n",
    "- strip()\n",
    "- count(substring,begin,end)\n",
    "- https://docs.python.org/3.7/library/stdtypes.html#string-methods"
   ]
  },
  {
   "cell_type": "code",
   "execution_count": 15,
   "metadata": {},
   "outputs": [
    {
     "name": "stdout",
     "output_type": "stream",
     "text": [
      "I AM UPPER CASED\n"
     ]
    }
   ],
   "source": [
    "# upper() \n",
    "small = \"i am upper cased\"\n",
    "print(small.upper())"
   ]
  },
  {
   "cell_type": "code",
   "execution_count": 16,
   "metadata": {},
   "outputs": [
    {
     "name": "stdout",
     "output_type": "stream",
     "text": [
      "i am lower cased\n"
     ]
    }
   ],
   "source": [
    "# lower() \n",
    "large = \"I AM LOWER CASED\"\n",
    "print(large.lower())"
   ]
  },
  {
   "cell_type": "code",
   "execution_count": 19,
   "metadata": {},
   "outputs": [
    {
     "name": "stdout",
     "output_type": "stream",
     "text": [
      "There is a space at the end    \n",
      "31\n",
      "27\n"
     ]
    }
   ],
   "source": [
    "# rstrip () function\n",
    "some_sentence = \"There is a space at the end    \"\n",
    "print(some_sentence)\n",
    "print(len(some_sentence))\n",
    "print(len(some_sentence.rstrip()))"
   ]
  },
  {
   "cell_type": "code",
   "execution_count": 20,
   "metadata": {},
   "outputs": [
    {
     "name": "stdout",
     "output_type": "stream",
     "text": [
      "4\n"
     ]
    }
   ],
   "source": [
    "increment = '4%'\n",
    "print(increment.rstrip('%')) "
   ]
  },
  {
   "cell_type": "code",
   "execution_count": 21,
   "metadata": {},
   "outputs": [
    {
     "name": "stdout",
     "output_type": "stream",
     "text": [
      "4\n"
     ]
    }
   ],
   "source": [
    "increment = '4e'\n",
    "print(increment.rstrip('e')) "
   ]
  },
  {
   "cell_type": "code",
   "execution_count": 22,
   "metadata": {},
   "outputs": [
    {
     "name": "stdout",
     "output_type": "stream",
     "text": [
      "   There is space at the start\n",
      "There is space at the start\n"
     ]
    }
   ],
   "source": [
    "# lstrip() function\n",
    "start = \"   There is space at the start\"\n",
    "print(start)\n",
    "print(start.lstrip())"
   ]
  },
  {
   "cell_type": "code",
   "execution_count": 23,
   "metadata": {},
   "outputs": [
    {
     "name": "stdout",
     "output_type": "stream",
     "text": [
      "   Trim whitespaces  \n",
      "Trim whitespaces\n"
     ]
    }
   ],
   "source": [
    "# strip() function \n",
    "spaces = \"   Trim whitespaces  \"\n",
    "print(spaces)\n",
    "print(spaces.strip())"
   ]
  },
  {
   "cell_type": "code",
   "execution_count": 24,
   "metadata": {
    "scrolled": true
   },
   "outputs": [
    {
     "name": "stdout",
     "output_type": "stream",
     "text": [
      "444\n"
     ]
    }
   ],
   "source": [
    "num_with_chars = '******444#######'\n",
    "print(num_with_chars.rstrip('#').lstrip('*'))"
   ]
  },
  {
   "cell_type": "code",
   "execution_count": 25,
   "metadata": {},
   "outputs": [
    {
     "name": "stdout",
     "output_type": "stream",
     "text": [
      "2\n",
      "1\n"
     ]
    }
   ],
   "source": [
    "#count() Method\n",
    "#string.count(value, start, end)\n",
    "string = \"This is a sample sentence\"\n",
    "print(string.count('i'))\n",
    "print(string.count('i',5))"
   ]
  },
  {
   "cell_type": "code",
   "execution_count": 31,
   "metadata": {},
   "outputs": [
    {
     "data": {
      "text/plain": [
       "'I am 23 years old and i like python language'"
      ]
     },
     "execution_count": 31,
     "metadata": {},
     "output_type": "execute_result"
    }
   ],
   "source": [
    "age=23\n",
    "g='python'\n",
    "My_age = \"I am {} years old and i like {} language\".format(age,g) \n",
    "My_age"
   ]
  },
  {
   "cell_type": "code",
   "execution_count": 29,
   "metadata": {},
   "outputs": [
    {
     "name": "stdout",
     "output_type": "stream",
     "text": [
      "Data Analysis using Pandas\n"
     ]
    }
   ],
   "source": [
    "#r/R It is used to specify the raw string.% It is used to perform string formatting.\n",
    "\n",
    "A = \"Data\"\n",
    "B = \"Analysis\"\n",
    "C = \"Pandas\"\n",
    "\n",
    "print(\"{} {} using {}\".format(A,B,C))\n"
   ]
  },
  {
   "cell_type": "code",
   "execution_count": 32,
   "metadata": {},
   "outputs": [
    {
     "name": "stdout",
     "output_type": "stream",
     "text": [
      "ashish\n",
      "ashish\n"
     ]
    }
   ],
   "source": [
    "a=input()\n",
    "print(a)"
   ]
  },
  {
   "cell_type": "code",
   "execution_count": 33,
   "metadata": {},
   "outputs": [
    {
     "name": "stdout",
     "output_type": "stream",
     "text": [
      "enter your nameprajwal\n",
      "prajwal\n"
     ]
    }
   ],
   "source": [
    "a=input('enter your name')\n",
    "print(a)"
   ]
  },
  {
   "cell_type": "code",
   "execution_count": 37,
   "metadata": {},
   "outputs": [
    {
     "name": "stdout",
     "output_type": "stream",
     "text": [
      "enter a firsrt numer23\n",
      "enter a second34\n",
      "addition of two number is 57\n"
     ]
    }
   ],
   "source": [
    "a=int(input('enter a firsrt numer'))\n",
    "b=int(input('enter a second'))\n",
    "c=a+b\n",
    "print('addition of two number is',c)"
   ]
  },
  {
   "cell_type": "code",
   "execution_count": 7,
   "metadata": {},
   "outputs": [
    {
     "name": "stdout",
     "output_type": "stream",
     "text": [
      "enter a firsrt numer67\n",
      "yes  person have car\n"
     ]
    }
   ],
   "source": [
    "#if else\n",
    "a=int(input('enter a firsrt numer'))\n",
    "\n",
    "if a>25:\n",
    "    print('yes  person have car')\n",
    "else:\n",
    "    print('person have no car')"
   ]
  },
  {
   "cell_type": "code",
   "execution_count": 11,
   "metadata": {},
   "outputs": [
    {
     "name": "stdout",
     "output_type": "stream",
     "text": [
      "enter a firsrt numer2\n",
      "person have no car\n"
     ]
    }
   ],
   "source": [
    "#if elif else 18-25 bike, <18 person have no car,bike\n",
    "a=int(input('enter a firsrt numer'))\n",
    "\n",
    "if 18<a<25:\n",
    "    print('yes  person have bike')\n",
    "elif a>25:\n",
    "    print('yes person have car')\n",
    "else:\n",
    "    print('person have no car')"
   ]
  },
  {
   "cell_type": "code",
   "execution_count": 13,
   "metadata": {},
   "outputs": [
    {
     "name": "stdout",
     "output_type": "stream",
     "text": [
      "enter a firsrt numer23\n",
      "yes  person have bike\n"
     ]
    }
   ],
   "source": [
    "#if elif else 18-25 bike, <18 person have no car,bike\n",
    "a=int(input('enter a firsrt numer'))\n",
    "\n",
    "if a>18 and a<25:#true and true=true\n",
    "    print('yes  person have bike')\n",
    "elif a>25:\n",
    "    print('yes person have car')\n",
    "else:\n",
    "    print('person have no car')"
   ]
  },
  {
   "cell_type": "code",
   "execution_count": 14,
   "metadata": {},
   "outputs": [
    {
     "name": "stdout",
     "output_type": "stream",
     "text": [
      "Inside\n"
     ]
    }
   ],
   "source": [
    "x=34\n",
    "if x < 20 or x > 40:#false or false=false\n",
    "    print('Outside')\n",
    "else:\n",
    "    print('Inside')"
   ]
  },
  {
   "cell_type": "code",
   "execution_count": 15,
   "metadata": {},
   "outputs": [
    {
     "name": "stdout",
     "output_type": "stream",
     "text": [
      "Outside\n"
     ]
    }
   ],
   "source": [
    "x=19\n",
    "if x < 20 or x > 40:#true or false=true\n",
    "    print('Outside')\n",
    "else:\n",
    "    print('Inside')"
   ]
  },
  {
   "cell_type": "code",
   "execution_count": 3,
   "metadata": {},
   "outputs": [
    {
     "name": "stdout",
     "output_type": "stream",
     "text": [
      "he require compalin\n"
     ]
    }
   ],
   "source": [
    "x = 8\n",
    "\n",
    "if x > 10:\n",
    "  print(\"Above ten,\")\n",
    "  if x > 20:\n",
    "    print(\"and also above 20!\")\n",
    "  else:\n",
    "    print(\"but not above 20.\")\n",
    "else:\n",
    "    if x>5:\n",
    "        print('he require compalin')\n",
    "    else:\n",
    "        print('he require horlicks')"
   ]
  },
  {
   "cell_type": "code",
   "execution_count": null,
   "metadata": {},
   "outputs": [],
   "source": []
  },
  {
   "cell_type": "code",
   "execution_count": 4,
   "metadata": {},
   "outputs": [
    {
     "name": "stdout",
     "output_type": "stream",
     "text": [
      "0\n",
      "1\n",
      "2\n",
      "3\n",
      "4\n",
      "5\n",
      "6\n",
      "7\n",
      "8\n",
      "9\n"
     ]
    }
   ],
   "source": [
    "for i in range(10):\n",
    "   print(i) "
   ]
  },
  {
   "cell_type": "code",
   "execution_count": 5,
   "metadata": {},
   "outputs": [
    {
     "name": "stdout",
     "output_type": "stream",
     "text": [
      "1\n",
      "2\n",
      "3\n",
      "4\n",
      "5\n",
      "6\n",
      "7\n",
      "8\n",
      "9\n"
     ]
    }
   ],
   "source": [
    "for i in range(1,10):\n",
    "   print(i) "
   ]
  },
  {
   "cell_type": "code",
   "execution_count": 6,
   "metadata": {},
   "outputs": [
    {
     "name": "stdout",
     "output_type": "stream",
     "text": [
      "1\n",
      "3\n",
      "5\n",
      "7\n",
      "9\n"
     ]
    }
   ],
   "source": [
    "for i in range(1,10,2):\n",
    "   print(i) "
   ]
  },
  {
   "cell_type": "code",
   "execution_count": 7,
   "metadata": {},
   "outputs": [
    {
     "name": "stdout",
     "output_type": "stream",
     "text": [
      "9\n",
      "8\n",
      "7\n",
      "6\n",
      "5\n",
      "4\n",
      "3\n",
      "2\n",
      "1\n"
     ]
    }
   ],
   "source": [
    "for i in range(9,0,-1):#987654321 \n",
    "   print(i) "
   ]
  },
  {
   "cell_type": "code",
   "execution_count": 8,
   "metadata": {},
   "outputs": [
    {
     "name": "stdout",
     "output_type": "stream",
     "text": [
      "a\n",
      "l\n",
      "l\n",
      " \n",
      "l\n",
      "p\n",
      "u\n",
      " \n",
      "f\n",
      "o\n",
      "l\n",
      "k\n",
      "s\n",
      " \n",
      "a\n",
      "r\n",
      "e\n",
      " \n",
      "a\n",
      "w\n",
      "e\n",
      "s\n",
      "o\n",
      "m\n",
      "e\n"
     ]
    }
   ],
   "source": [
    "a='all lpu folks are awesome'#1\n",
    "for i in a:\n",
    "    print(i)"
   ]
  },
  {
   "cell_type": "code",
   "execution_count": 9,
   "metadata": {},
   "outputs": [
    {
     "data": {
      "text/plain": [
       "'a'"
      ]
     },
     "execution_count": 9,
     "metadata": {},
     "output_type": "execute_result"
    }
   ],
   "source": [
    "a='all lpu folks are awesome'#2 index number\n",
    "a[0]"
   ]
  },
  {
   "cell_type": "code",
   "execution_count": 21,
   "metadata": {},
   "outputs": [
    {
     "name": "stdout",
     "output_type": "stream",
     "text": [
      "all lpu folks are awesome"
     ]
    }
   ],
   "source": [
    "a='all lpu folks are awesome'#2 index number\n",
    "for i in range(len(a)):\n",
    "    print(a[i],end='')"
   ]
  },
  {
   "cell_type": "code",
   "execution_count": 19,
   "metadata": {},
   "outputs": [
    {
     "name": "stdout",
     "output_type": "stream",
     "text": [
      "i love python i am lpu student\n"
     ]
    }
   ],
   "source": [
    "a='i love python'\n",
    "b='i am lpu student'\n",
    "print(a,end=' ')\n",
    "print(b)"
   ]
  },
  {
   "cell_type": "code",
   "execution_count": null,
   "metadata": {},
   "outputs": [],
   "source": []
  }
 ],
 "metadata": {
  "anaconda-cloud": {},
  "kernelspec": {
   "display_name": "Python 3",
   "language": "python",
   "name": "python3"
  },
  "language_info": {
   "codemirror_mode": {
    "name": "ipython",
    "version": 3
   },
   "file_extension": ".py",
   "mimetype": "text/x-python",
   "name": "python",
   "nbconvert_exporter": "python",
   "pygments_lexer": "ipython3",
   "version": "3.8.8"
  }
 },
 "nbformat": 4,
 "nbformat_minor": 1
}
