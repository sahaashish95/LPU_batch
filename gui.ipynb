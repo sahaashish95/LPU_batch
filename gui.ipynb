{
 "cells": [
  {
   "cell_type": "code",
   "execution_count": 3,
   "id": "24043c0a",
   "metadata": {},
   "outputs": [],
   "source": [
    "#showing hello world in gui screen with the help of pack method \n",
    "from tkinter import *\n",
    "root=Tk()\n",
    "w=Label(root,text='hello world')\n",
    "w.pack()\n",
    "w=Label(root,text='hello world1')\n",
    "w.pack()\n",
    "root.mainloop()"
   ]
  },
  {
   "cell_type": "code",
   "execution_count": 4,
   "id": "9e96bf20",
   "metadata": {},
   "outputs": [],
   "source": [
    "#showing hello world in gui screen with the help of place method\n",
    "from tkinter import *\n",
    "root=Tk()\n",
    "w=Label(root,text='hello world')\n",
    "w.place(x=10,y=20)\n",
    "root.mainloop()"
   ]
  },
  {
   "cell_type": "code",
   "execution_count": 5,
   "id": "5c78db31",
   "metadata": {},
   "outputs": [],
   "source": [
    "#showing hello world in gui screen with the help of grid method\n",
    "from tkinter import *\n",
    "root=Tk()\n",
    "w=Label(root,text='hello world')\n",
    "w.grid(row=0,column=0)\n",
    "w=Label(root,text='hello world1')\n",
    "w.grid(row=0,column=1)\n",
    "w=Label(root,text='hello world1')\n",
    "w.grid(row=1,column=0)\n",
    "root.mainloop()"
   ]
  },
  {
   "cell_type": "code",
   "execution_count": 11,
   "id": "70cca3c1",
   "metadata": {},
   "outputs": [],
   "source": [
    "#Button widget and changing dimensio of window\n",
    "from tkinter import *\n",
    "root=Tk()\n",
    "root.title('Counting Seconds')\n",
    "root.geometry(\"400x300\")\n",
    "w=Label(root,text='Welcome to the python classes')\n",
    "w.pack()\n",
    "button = Button(root, text='Stop', width=25,command=root.destroy)\n",
    "button.pack()\n",
    "root.mainloop()"
   ]
  },
  {
   "cell_type": "code",
   "execution_count": 24,
   "id": "26b68392",
   "metadata": {},
   "outputs": [],
   "source": [
    "#changing the screen size\n",
    "import tkinter as tk\n",
    "r = tk.Tk()\n",
    "r.geometry(\"400x400\")\n",
    "r.title('Counting Seconds')\n",
    "user_name = tk.Label( r,\n",
    "                  text = \"Username\").grid(row = 17, column = 0)\n",
    "\n",
    "r.mainloop()"
   ]
  },
  {
   "cell_type": "code",
   "execution_count": 16,
   "id": "1956aaa4",
   "metadata": {},
   "outputs": [],
   "source": [
    "#Entry method\n",
    "from tkinter import *\n",
    "master = Tk()\n",
    "Label(master, text='First Name').grid(row=0)\n",
    "Label(master, text='Last Name').grid(row=1)\n",
    "e1 = Entry(master)\n",
    "e2 = Entry(master)\n",
    "e1.grid(row=0, column=1)\n",
    "e2.grid(row=1, column=1)\n",
    "mainloop()"
   ]
  },
  {
   "cell_type": "code",
   "execution_count": 13,
   "id": "173ce954",
   "metadata": {},
   "outputs": [
    {
     "name": "stdout",
     "output_type": "stream",
     "text": [
      "hi welcome\n",
      "hi welcome\n"
     ]
    }
   ],
   "source": [
    "#Connecting function with button\n",
    "from tkinter import *\n",
    "root = Tk()\n",
    "\n",
    "def g():\n",
    "    h.config(text='hi welcome')#show the label out dynamic\n",
    "    print('hi welcome')\n",
    "    \n",
    "h=Label(root)\n",
    "h.pack()\n",
    "Button(root, text = 'Brown', fg='brown', command=g).pack()\n",
    "root.mainloop()"
   ]
  },
  {
   "cell_type": "code",
   "execution_count": 17,
   "id": "e3ea1feb",
   "metadata": {},
   "outputs": [
    {
     "data": {
      "text/plain": [
       "3145"
      ]
     },
     "execution_count": 17,
     "metadata": {},
     "output_type": "execute_result"
    }
   ],
   "source": [
    "#partial function\n",
    "from functools import partial\n",
    "  \n",
    "# A normal function\n",
    "def f(a, b, c, x):\n",
    "    return 1000*a + 100*b + 10*c + x\n",
    "  \n",
    "# A partial function that calls f with\n",
    "# a as 3, b as 1 and c as 4.\n",
    "g = partial(f, 3, 1, 4,5)\n",
    "  \n",
    "# Calling g()\n",
    "#print(g(5))\n",
    "g()"
   ]
  },
  {
   "cell_type": "code",
   "execution_count": 50,
   "id": "5365aac5",
   "metadata": {},
   "outputs": [
    {
     "name": "stdout",
     "output_type": "stream",
     "text": [
      "312\n"
     ]
    }
   ],
   "source": [
    "\n",
    "from functools import *\n",
    "  \n",
    "# A normal function\n",
    "def add(a, b, c):\n",
    "    return 100 * a + 10 * b + c\n",
    "  \n",
    "# A partial function with b = 1 and c = 2\n",
    "add_part = partial(add, c = 2, b = 1)\n",
    "  \n",
    "# Calling partial function\n",
    "print(add_part(3))"
   ]
  },
  {
   "cell_type": "code",
   "execution_count": 21,
   "id": "d9541c8f",
   "metadata": {},
   "outputs": [
    {
     "name": "stdout",
     "output_type": "stream",
     "text": [
      "<class 'float'>\n",
      "23.0\n"
     ]
    }
   ],
   "source": [
    "#VAriables and partial function\n",
    "from tkinter import *\n",
    "import tkinter as tk \n",
    "from functools import partial\n",
    "\n",
    "def call_result(label_result,number1):\n",
    "    label_result.config(text=number1.get()) \n",
    "    print(type(number1.get()))\n",
    "    #print(type(int(number1.get())))\n",
    "    print(number1.get())\n",
    "    return\n",
    "\n",
    "root = Tk() \n",
    "root.geometry('400x200+100+200')\n",
    "\n",
    "#number1 = StringVar()\n",
    "#number1 = IntVar()\n",
    "number1 =DoubleVar()\n",
    "#number1=BooleanVar()\n",
    "labelResult = Label(root)\n",
    "labelResult.grid(row=7, column=2)\n",
    "\n",
    "entryNum1 = Entry(root, textvariable=number1).grid(row=1, column=2)\n",
    "call_result = partial(call_result, labelResult, number1)\n",
    "buttonCal = Button(root, text=\"Calculate\", command=call_result).grid(row=5, column=0)\n",
    "root.mainloop()"
   ]
  },
  {
   "cell_type": "code",
   "execution_count": null,
   "id": "195b010c",
   "metadata": {},
   "outputs": [],
   "source": []
  }
 ],
 "metadata": {
  "kernelspec": {
   "display_name": "Python 3",
   "language": "python",
   "name": "python3"
  },
  "language_info": {
   "codemirror_mode": {
    "name": "ipython",
    "version": 3
   },
   "file_extension": ".py",
   "mimetype": "text/x-python",
   "name": "python",
   "nbconvert_exporter": "python",
   "pygments_lexer": "ipython3",
   "version": "3.8.8"
  }
 },
 "nbformat": 4,
 "nbformat_minor": 5
}
