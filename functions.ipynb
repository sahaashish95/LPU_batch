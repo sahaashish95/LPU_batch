{
 "cells": [
  {
   "cell_type": "code",
   "execution_count": 1,
   "id": "008d4ac5",
   "metadata": {},
   "outputs": [
    {
     "data": {
      "text/plain": [
       "[1, 4, 9, 16, 25]"
      ]
     },
     "execution_count": 1,
     "metadata": {},
     "output_type": "execute_result"
    }
   ],
   "source": [
    "l1 = [1,2,3,4,5]\n",
    "\n",
    "l2 = []\n",
    "\n",
    "for i in l1 :\n",
    "    l2.append(i**2)\n",
    "    \n",
    "l2\n"
   ]
  },
  {
   "cell_type": "code",
   "execution_count": 3,
   "id": "58dce98b",
   "metadata": {},
   "outputs": [
    {
     "data": {
      "text/plain": [
       "[1, 4, 9, 16, 25]"
      ]
     },
     "execution_count": 3,
     "metadata": {},
     "output_type": "execute_result"
    }
   ],
   "source": [
    "l1 = [1,2,3,4,5]\n",
    "l2=[i**2 for i in l1]\n",
    "l2"
   ]
  },
  {
   "cell_type": "code",
   "execution_count": 4,
   "id": "3178beac",
   "metadata": {},
   "outputs": [
    {
     "data": {
      "text/plain": [
       "[2, 4, 6, 8, 10]"
      ]
     },
     "execution_count": 4,
     "metadata": {},
     "output_type": "execute_result"
    }
   ],
   "source": [
    "l1=[1,2,3,4,5,6,7,8,9,10]\n",
    "l2=[]\n",
    "for i in l1:\n",
    "    if i%2==0:\n",
    "        l2.append(i)\n",
    "\n",
    "l2"
   ]
  },
  {
   "cell_type": "code",
   "execution_count": 7,
   "id": "a6754219",
   "metadata": {},
   "outputs": [
    {
     "data": {
      "text/plain": [
       "[6]"
      ]
     },
     "execution_count": 7,
     "metadata": {},
     "output_type": "execute_result"
    }
   ],
   "source": [
    "l1 = [1,2,3,4,5,6,7,8,9,10]\n",
    "l2=[i for i in l1 if i%2==0]\n",
    "l3=[i for i in l1 if i%2==0 and i%3==0]\n",
    "l2\n",
    "l3\n",
    "#print those number that divisible by both 2 and 3"
   ]
  },
  {
   "cell_type": "code",
   "execution_count": 17,
   "id": "299c3aa1",
   "metadata": {},
   "outputs": [
    {
     "name": "stdout",
     "output_type": "stream",
     "text": [
      "[1, 3, 5, 7, 9, 11, 13, 15, 17, 19, 21, 23, 25, 27, 29, 31, 33, 35, 37, 39, 41, 43, 45, 47, 49, 51, 53, 55, 57, 59, 61, 63, 65, 67, 69, 71, 73, 75, 77, 79, 81, 83, 85, 87, 89, 91, 93, 95, 97, 99]\n"
     ]
    }
   ],
   "source": [
    "#create a list of odd number from 1 to 100\n",
    "l3=[i for i in range(1,100) if i%2!=0 ]\n",
    "\n",
    "print(l3)"
   ]
  },
  {
   "cell_type": "code",
   "execution_count": 14,
   "id": "1f88cacf",
   "metadata": {},
   "outputs": [
    {
     "name": "stdout",
     "output_type": "stream",
     "text": [
      "['odd', 'even', 'odd', 'even', 'odd', 'even', 'odd', 'even', 'odd', 'even']\n"
     ]
    }
   ],
   "source": [
    "l1=[1,2,3,4,5,6,7,8,9,10]\n",
    "l2=[]\n",
    "for i in l1:\n",
    "    if i%2==0:\n",
    "        l2.append(\"even\")\n",
    "    else:\n",
    "        l2.append(\"odd\")\n",
    "print(l2)"
   ]
  },
  {
   "cell_type": "code",
   "execution_count": 18,
   "id": "a980f937",
   "metadata": {},
   "outputs": [
    {
     "data": {
      "text/plain": [
       "['odd', 'even', 'odd', 'even', 'odd', 'even', 'odd', 'even', 'odd', 'even']"
      ]
     },
     "execution_count": 18,
     "metadata": {},
     "output_type": "execute_result"
    }
   ],
   "source": [
    "l1=[1,2,3,4,5,6,7,8,9,10]\n",
    "l3=['even' if i%2==0 else 'odd' for i in l1]\n",
    "\n",
    "l3"
   ]
  },
  {
   "cell_type": "code",
   "execution_count": null,
   "id": "e8c49d20",
   "metadata": {},
   "outputs": [],
   "source": [
    "from 1 to 5, i will print even if number is divisble by 2 and if not divisble store odd and if number==3 store number is 3\n",
    "[1,2,3,4,5]\n",
    "output=[odd,even,'number is 3','evn',odd]"
   ]
  },
  {
   "cell_type": "code",
   "execution_count": 22,
   "id": "ad417239",
   "metadata": {},
   "outputs": [
    {
     "data": {
      "text/plain": [
       "['odd', 'even', 'number is 3', 'number is 41', 'odd']"
      ]
     },
     "execution_count": 22,
     "metadata": {},
     "output_type": "execute_result"
    }
   ],
   "source": [
    "l = [1, 2, 3, 41, 5]\n",
    "['even' if i%2==0 else 'number is 3' if i==3 else 'number is 41' if i==41 else 'odd' for i in l]"
   ]
  },
  {
   "cell_type": "code",
   "execution_count": 25,
   "id": "380d9888",
   "metadata": {},
   "outputs": [],
   "source": [
    "def welcome():\n",
    "    print('welcome to the python class')\n",
    "    "
   ]
  },
  {
   "cell_type": "code",
   "execution_count": 28,
   "id": "026722cc",
   "metadata": {},
   "outputs": [
    {
     "name": "stdout",
     "output_type": "stream",
     "text": [
      "welcome to the python class\n",
      "None\n"
     ]
    }
   ],
   "source": [
    "a=welcome()\n",
    "print(a)"
   ]
  },
  {
   "cell_type": "code",
   "execution_count": 31,
   "id": "ef173f96",
   "metadata": {},
   "outputs": [
    {
     "name": "stdout",
     "output_type": "stream",
     "text": [
      "welcome to the python class\n"
     ]
    }
   ],
   "source": [
    "def welcome():\n",
    "    return 'welcome to the python class'\n",
    "a=welcome()\n",
    "print(a)"
   ]
  },
  {
   "cell_type": "code",
   "execution_count": 38,
   "id": "393155ad",
   "metadata": {},
   "outputs": [
    {
     "data": {
      "text/plain": [
       "'welcome to the python class lpu folks'"
      ]
     },
     "execution_count": 38,
     "metadata": {},
     "output_type": "execute_result"
    }
   ],
   "source": [
    "def welcome(a):\n",
    "    return 'welcome to the python class ' +a\n",
    "welcome('lpu folks')"
   ]
  },
  {
   "cell_type": "code",
   "execution_count": 35,
   "id": "d5e8ad81",
   "metadata": {},
   "outputs": [
    {
     "ename": "TypeError",
     "evalue": "welcome() takes 1 positional argument but 2 were given",
     "output_type": "error",
     "traceback": [
      "\u001b[1;31m---------------------------------------------------------------------------\u001b[0m",
      "\u001b[1;31mTypeError\u001b[0m                                 Traceback (most recent call last)",
      "\u001b[1;32m<ipython-input-35-655ecc1b213d>\u001b[0m in \u001b[0;36m<module>\u001b[1;34m\u001b[0m\n\u001b[1;32m----> 1\u001b[1;33m \u001b[0mwelcome\u001b[0m\u001b[1;33m(\u001b[0m\u001b[1;34m'lpu folks'\u001b[0m\u001b[1;33m,\u001b[0m\u001b[1;34m'ashish'\u001b[0m\u001b[1;33m)\u001b[0m\u001b[1;33m\u001b[0m\u001b[1;33m\u001b[0m\u001b[0m\n\u001b[0m",
      "\u001b[1;31mTypeError\u001b[0m: welcome() takes 1 positional argument but 2 were given"
     ]
    }
   ],
   "source": [
    "welcome('lpu folks','ashish')"
   ]
  },
  {
   "cell_type": "code",
   "execution_count": 36,
   "id": "477a93c6",
   "metadata": {},
   "outputs": [
    {
     "data": {
      "text/plain": [
       "5"
      ]
     },
     "execution_count": 36,
     "metadata": {},
     "output_type": "execute_result"
    }
   ],
   "source": [
    "#make a function that will take 2 number from user and return aaddition of that two number\n",
    "def sum(a,b):\n",
    "    return a+b\n",
    "sum(2,3)"
   ]
  },
  {
   "cell_type": "code",
   "execution_count": 40,
   "id": "4af82b9b",
   "metadata": {
    "scrolled": true
   },
   "outputs": [
    {
     "name": "stdout",
     "output_type": "stream",
     "text": [
      "welcome to the python class ashish\n"
     ]
    },
    {
     "data": {
      "text/plain": [
       "'welcome to the python class lpu folks'"
      ]
     },
     "execution_count": 40,
     "metadata": {},
     "output_type": "execute_result"
    }
   ],
   "source": [
    "def welcome(a='lpu folks'):\n",
    "    return 'welcome to the python class ' +a\n",
    "print(welcome('ashish'))\n",
    "welcome()"
   ]
  },
  {
   "cell_type": "code",
   "execution_count": null,
   "id": "88ded5ce",
   "metadata": {},
   "outputs": [],
   "source": [
    "Define a calculator function which takes 3 arguments from the user ,first two will be numbers and third will be operations \n",
    "like (+,-,*,/).If user forgets to give third argument then by default operation it performs addition.\n",
    "\n",
    "calculator(3,4,+) output: sum of 3 and 4 is :7\n",
    "\n",
    "calculator(4,2) output: sum of 4 and 2 is :6"
   ]
  },
  {
   "cell_type": "code",
   "execution_count": 45,
   "id": "12847052",
   "metadata": {},
   "outputs": [
    {
     "data": {
      "text/plain": [
       "-1"
      ]
     },
     "execution_count": 45,
     "metadata": {},
     "output_type": "execute_result"
    }
   ],
   "source": [
    "def calculator(a,b,operator=\"+\"):\n",
    "    if operator== '+':\n",
    "        return a+b\n",
    "    elif operator== '-':\n",
    "        return a-b\n",
    "    elif operator== '*':\n",
    "        return a*b\n",
    "    elif operator== '/':\n",
    "        return a/b\n",
    "    \n",
    "\n",
    "calculator(2,3)\n",
    "calculator(2,3,'-')"
   ]
  },
  {
   "cell_type": "code",
   "execution_count": 46,
   "id": "c6047bec",
   "metadata": {},
   "outputs": [
    {
     "name": "stdout",
     "output_type": "stream",
     "text": [
      "enter 1st number2\n",
      "enter 2nd number3\n",
      "enter operator+\n",
      "5\n"
     ]
    }
   ],
   "source": [
    "def add(num1, num2):\n",
    "    return num1 + num2\n",
    "def sub(num1, num2):\n",
    "    return num1 - num2\n",
    "\n",
    "# Function to multiply two numbers\n",
    "def mul(num1, num2):\n",
    "    return num1 * num2\n",
    "\n",
    "# Function to divide two numbers\n",
    "def div(num1, num2):\n",
    "    return num1 / num2\n",
    "\n",
    "def calculator(n1,n2,op='+'):\n",
    "    if op=='-':\n",
    "        print(sub(n1,n2))\n",
    "    elif op=='*':\n",
    "        print(mul(n1,n2))\n",
    "    elif op=='/':\n",
    "        print(div(n1,n2))\n",
    "    else:\n",
    "        print(add(n1,n2))\n",
    "\n",
    "n1=int(input('enter 1st number'))\n",
    "n2=int(input('enter 2nd number'))\n",
    "op=input('enter operator')\n",
    "calculator(n1,n2)"
   ]
  },
  {
   "cell_type": "code",
   "execution_count": 49,
   "id": "a0c3fe37",
   "metadata": {},
   "outputs": [
    {
     "data": {
      "text/plain": [
       "0.6666666666666666"
      ]
     },
     "execution_count": 49,
     "metadata": {},
     "output_type": "execute_result"
    }
   ],
   "source": [
    "def func(a,b,symbol='+'):\n",
    "    return eval(str(a)+symbol+str(b))#2+3\n",
    "func(2,3)\n",
    "func(2,3,'/')"
   ]
  },
  {
   "cell_type": "code",
   "execution_count": 50,
   "id": "a0724d3c",
   "metadata": {},
   "outputs": [
    {
     "data": {
      "text/plain": [
       "5"
      ]
     },
     "execution_count": 50,
     "metadata": {},
     "output_type": "execute_result"
    }
   ],
   "source": [
    "2+3"
   ]
  },
  {
   "cell_type": "code",
   "execution_count": null,
   "id": "99f97ff1",
   "metadata": {},
   "outputs": [],
   "source": []
  }
 ],
 "metadata": {
  "kernelspec": {
   "display_name": "Python 3",
   "language": "python",
   "name": "python3"
  },
  "language_info": {
   "codemirror_mode": {
    "name": "ipython",
    "version": 3
   },
   "file_extension": ".py",
   "mimetype": "text/x-python",
   "name": "python",
   "nbconvert_exporter": "python",
   "pygments_lexer": "ipython3",
   "version": "3.8.8"
  }
 },
 "nbformat": 4,
 "nbformat_minor": 5
}
