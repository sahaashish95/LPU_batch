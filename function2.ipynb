{
 "cells": [
  {
   "cell_type": "code",
   "execution_count": 1,
   "id": "e8979376",
   "metadata": {},
   "outputs": [
    {
     "data": {
      "text/plain": [
       "5"
      ]
     },
     "execution_count": 1,
     "metadata": {},
     "output_type": "execute_result"
    }
   ],
   "source": [
    "def sum(a,b):\n",
    "    return a+b\n",
    "sum(2,3)"
   ]
  },
  {
   "cell_type": "code",
   "execution_count": null,
   "id": "56923c28",
   "metadata": {},
   "outputs": [],
   "source": [
    "dictionary comprehension\n",
    "\n",
    "l1 = [\"automobiles\", \"Honda\", \"Benz\", \"Suzuki\", \"Morris Garages\" ]\n",
    "l2=[12,5,4....]\n",
    "i want to create a list in which we store the length of every element presnt in l1 list"
   ]
  },
  {
   "cell_type": "code",
   "execution_count": 2,
   "id": "9ebe5cb4",
   "metadata": {},
   "outputs": [
    {
     "data": {
      "text/plain": [
       "[11, 5, 4, 6, 14]"
      ]
     },
     "execution_count": 2,
     "metadata": {},
     "output_type": "execute_result"
    }
   ],
   "source": [
    "l1 = [\"automobiles\",\"honda\",\"benz\",\"suzuki\",\"morris garages\"]\n",
    "l2 = [len(i) for i in l1]\n",
    "l2"
   ]
  },
  {
   "cell_type": "code",
   "execution_count": 3,
   "id": "9160b04e",
   "metadata": {},
   "outputs": [
    {
     "data": {
      "text/plain": [
       "[11, 5, 6, 14]"
      ]
     },
     "execution_count": 3,
     "metadata": {},
     "output_type": "execute_result"
    }
   ],
   "source": [
    "l2 = [len(i) for i in l1 if len(i)>=5]\n",
    "l2"
   ]
  },
  {
   "cell_type": "code",
   "execution_count": null,
   "id": "48fa7b86",
   "metadata": {},
   "outputs": [],
   "source": [
    "create a dictionary using list in which we store elemnt name as key and length as value in dictionary \n",
    "l1 = [\"automobiles\",\"honda\",\"benz\",\"suzuki\",\"morris garages\"]\n",
    "l3={\"automobiles\":11,\"honda\":5,'benz':4}"
   ]
  },
  {
   "cell_type": "code",
   "execution_count": 5,
   "id": "97a348db",
   "metadata": {},
   "outputs": [
    {
     "data": {
      "text/plain": [
       "{'ashish': 6}"
      ]
     },
     "execution_count": 5,
     "metadata": {},
     "output_type": "execute_result"
    }
   ],
   "source": [
    "a={}\n",
    "a['ashish']=6\n",
    "a"
   ]
  },
  {
   "cell_type": "code",
   "execution_count": 6,
   "id": "7aac0f69",
   "metadata": {},
   "outputs": [
    {
     "name": "stdout",
     "output_type": "stream",
     "text": [
      "{'automobiles': 11, 'Honda': 5, 'Benz': 4, 'Suzuki': 6, 'Morris Garages': 14}\n"
     ]
    }
   ],
   "source": [
    "l1= [\"automobiles\", \"Honda\", \"Benz\", \"Suzuki\", \"Morris Garages\" ]\n",
    "l2={}\n",
    "for i in l1:\n",
    "    l2[i]=len(i)\n",
    "print(l2)"
   ]
  },
  {
   "cell_type": "code",
   "execution_count": 7,
   "id": "114a484d",
   "metadata": {},
   "outputs": [
    {
     "data": {
      "text/plain": [
       "{'automobiles': 11, 'Honda': 5, 'Benz': 4, 'Suzuki': 6, 'Morris Garages': 14}"
      ]
     },
     "execution_count": 7,
     "metadata": {},
     "output_type": "execute_result"
    }
   ],
   "source": [
    "l2={i: len(i) for i in l1}\n",
    "l2"
   ]
  },
  {
   "cell_type": "code",
   "execution_count": 9,
   "id": "fcfb70aa",
   "metadata": {},
   "outputs": [
    {
     "data": {
      "text/plain": [
       "{'automobiles': 11, 'Honda': 5, 'Suzuki': 6, 'Morris Garages': 14}"
      ]
     },
     "execution_count": 9,
     "metadata": {},
     "output_type": "execute_result"
    }
   ],
   "source": [
    "#store the key value pair only whose value greater or equal 5\n",
    "l2={i: len(i) for i in l1 if len(i)>=5}\n",
    "l2"
   ]
  },
  {
   "cell_type": "code",
   "execution_count": 10,
   "id": "51ac0f9d",
   "metadata": {},
   "outputs": [
    {
     "name": "stdout",
     "output_type": "stream",
     "text": [
      "enter stringall lpu folks are nice\n",
      "['a', 'u', 'o', 'a', 'e', 'i', 'e']\n"
     ]
    }
   ],
   "source": [
    "#want a take  a input from the user and store only vowel in a list, do this with the help of list comprehension\n",
    "l1 =input(\"enter string\")\n",
    "l2=[i for i in l1 if i.lower() in 'aeiou']\n",
    "print(l2)"
   ]
  },
  {
   "cell_type": "code",
   "execution_count": 11,
   "id": "3f531324",
   "metadata": {},
   "outputs": [
    {
     "name": "stdout",
     "output_type": "stream",
     "text": [
      "enter stringall lpu folks are nice\n",
      "{'o', 'i', 'u', 'a', 'e'}\n"
     ]
    }
   ],
   "source": [
    "l1 =input(\"enter string\")\n",
    "l2={i for i in l1 if i.lower() in 'aeiou'}\n",
    "print(l2)"
   ]
  },
  {
   "cell_type": "code",
   "execution_count": 12,
   "id": "2a34e6ca",
   "metadata": {},
   "outputs": [
    {
     "data": {
      "text/plain": [
       "5"
      ]
     },
     "execution_count": 12,
     "metadata": {},
     "output_type": "execute_result"
    }
   ],
   "source": [
    "def sum(a,b):\n",
    "    return a+b\n",
    "sum(2,3)"
   ]
  },
  {
   "cell_type": "code",
   "execution_count": 13,
   "id": "38a78c7a",
   "metadata": {},
   "outputs": [],
   "source": [
    "a=lambda a,b:a+b"
   ]
  },
  {
   "cell_type": "code",
   "execution_count": 15,
   "id": "ef10d8be",
   "metadata": {},
   "outputs": [
    {
     "data": {
      "text/plain": [
       "8"
      ]
     },
     "execution_count": 15,
     "metadata": {},
     "output_type": "execute_result"
    }
   ],
   "source": [
    "a(2,6)"
   ]
  },
  {
   "cell_type": "code",
   "execution_count": 16,
   "id": "fc1c8a49",
   "metadata": {},
   "outputs": [],
   "source": [
    "'''make a function that will take a arument as number and return even or odd\n",
    "check(10)\n",
    "even\n",
    "check(11)\n",
    "odd'''\n",
    "\n",
    "def helper(a):\n",
    "    if a%2==0:\n",
    "        print(\"even\")\n",
    "    else:\n",
    "        print(\"odd\")"
   ]
  },
  {
   "cell_type": "code",
   "execution_count": 18,
   "id": "8e1d315b",
   "metadata": {},
   "outputs": [
    {
     "name": "stdout",
     "output_type": "stream",
     "text": [
      "odd\n"
     ]
    }
   ],
   "source": [
    "helper(11)"
   ]
  },
  {
   "cell_type": "code",
   "execution_count": 20,
   "id": "9d049e5f",
   "metadata": {},
   "outputs": [
    {
     "data": {
      "text/plain": [
       "'even'"
      ]
     },
     "execution_count": 20,
     "metadata": {},
     "output_type": "execute_result"
    }
   ],
   "source": [
    "a=lambda x:'even' if x%2==0 else 'odd'\n",
    "a(5)\n",
    "a(8)"
   ]
  },
  {
   "cell_type": "code",
   "execution_count": null,
   "id": "3f879af8",
   "metadata": {},
   "outputs": [],
   "source": [
    "#want to makea function that will print welcome to the python class message by taking argument as name\n",
    "a=lambda x:'welcome to the class '+x\n",
    "a('sir')"
   ]
  }
 ],
 "metadata": {
  "kernelspec": {
   "display_name": "Python 3",
   "language": "python",
   "name": "python3"
  },
  "language_info": {
   "codemirror_mode": {
    "name": "ipython",
    "version": 3
   },
   "file_extension": ".py",
   "mimetype": "text/x-python",
   "name": "python",
   "nbconvert_exporter": "python",
   "pygments_lexer": "ipython3",
   "version": "3.8.8"
  }
 },
 "nbformat": 4,
 "nbformat_minor": 5
}
