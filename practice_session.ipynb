{
 "cells": [
  {
   "cell_type": "code",
   "execution_count": 2,
   "id": "f13e76b7",
   "metadata": {},
   "outputs": [
    {
     "data": {
      "text/plain": [
       "34"
      ]
     },
     "execution_count": 2,
     "metadata": {},
     "output_type": "execute_result"
    }
   ],
   "source": [
    "d={'a':23,'b':34,'c':23,'d':[2,3,4],'e':[3,4]}\n",
    "d['b']"
   ]
  },
  {
   "cell_type": "code",
   "execution_count": 3,
   "id": "a64c0f26",
   "metadata": {},
   "outputs": [
    {
     "ename": "KeyError",
     "evalue": "'f'",
     "output_type": "error",
     "traceback": [
      "\u001b[1;31m---------------------------------------------------------------------------\u001b[0m",
      "\u001b[1;31mKeyError\u001b[0m                                  Traceback (most recent call last)",
      "\u001b[1;32m<ipython-input-3-cdfea06344db>\u001b[0m in \u001b[0;36m<module>\u001b[1;34m\u001b[0m\n\u001b[1;32m----> 1\u001b[1;33m \u001b[0md\u001b[0m\u001b[1;33m[\u001b[0m\u001b[1;34m'f'\u001b[0m\u001b[1;33m]\u001b[0m\u001b[1;33m\u001b[0m\u001b[1;33m\u001b[0m\u001b[0m\n\u001b[0m",
      "\u001b[1;31mKeyError\u001b[0m: 'f'"
     ]
    }
   ],
   "source": [
    "d['f']"
   ]
  },
  {
   "cell_type": "code",
   "execution_count": 6,
   "id": "ce4e4e37",
   "metadata": {},
   "outputs": [
    {
     "name": "stdout",
     "output_type": "stream",
     "text": [
      "23\n"
     ]
    }
   ],
   "source": [
    "print(d.get('a'))"
   ]
  },
  {
   "cell_type": "code",
   "execution_count": 8,
   "id": "5d09e138",
   "metadata": {},
   "outputs": [
    {
     "data": {
      "text/plain": [
       "'key is not found'"
      ]
     },
     "execution_count": 8,
     "metadata": {},
     "output_type": "execute_result"
    }
   ],
   "source": [
    "d.get('f','key is not found')"
   ]
  },
  {
   "cell_type": "code",
   "execution_count": 10,
   "id": "c3dc4221",
   "metadata": {},
   "outputs": [
    {
     "data": {
      "text/plain": [
       "3"
      ]
     },
     "execution_count": 10,
     "metadata": {},
     "output_type": "execute_result"
    }
   ],
   "source": [
    "d['d'][1]"
   ]
  },
  {
   "cell_type": "code",
   "execution_count": 12,
   "id": "4ddb13bc",
   "metadata": {},
   "outputs": [
    {
     "data": {
      "text/plain": [
       "{'Ten': 10, 'Twenty': 20, 'Thirty': 30}"
      ]
     },
     "execution_count": 12,
     "metadata": {},
     "output_type": "execute_result"
    }
   ],
   "source": [
    "keys = ['Ten', 'Twenty', 'Thirty']\n",
    "values = [10, 20, 30]\n",
    "{'Ten':10,'Twenty':20, 'Thirty':30}"
   ]
  },
  {
   "cell_type": "code",
   "execution_count": null,
   "id": "9a18f620",
   "metadata": {},
   "outputs": [],
   "source": [
    "zip(d)"
   ]
  },
  {
   "cell_type": "code",
   "execution_count": 15,
   "id": "8d7cd56f",
   "metadata": {},
   "outputs": [
    {
     "data": {
      "text/plain": [
       "10"
      ]
     },
     "execution_count": 15,
     "metadata": {},
     "output_type": "execute_result"
    }
   ],
   "source": [
    "keys[0]\n",
    "values[0]"
   ]
  },
  {
   "cell_type": "code",
   "execution_count": 16,
   "id": "12c739a7",
   "metadata": {},
   "outputs": [
    {
     "name": "stdout",
     "output_type": "stream",
     "text": [
      "{'Ten': 10, 'Twenty': 20, 'Thirty': 30}\n"
     ]
    }
   ],
   "source": [
    "dict1 = {}\n",
    "for i in range(len(keys)) :\n",
    "    dict1[keys[i]] = values[i]\n",
    "print(dict1)"
   ]
  },
  {
   "cell_type": "code",
   "execution_count": 18,
   "id": "fd1b6ade",
   "metadata": {},
   "outputs": [
    {
     "data": {
      "text/plain": [
       "[('Ten', 10), ('Twenty', 20), ('Thirty', 30)]"
      ]
     },
     "execution_count": 18,
     "metadata": {},
     "output_type": "execute_result"
    }
   ],
   "source": [
    "list(zip(keys,values))"
   ]
  },
  {
   "cell_type": "code",
   "execution_count": 19,
   "id": "5c4970fb",
   "metadata": {},
   "outputs": [
    {
     "name": "stdout",
     "output_type": "stream",
     "text": [
      "{'Ten': 10, 'Twenty': 20, 'Thirty': 30}\n"
     ]
    }
   ],
   "source": [
    "res =dict(zip(keys,values))\n",
    "print(res)"
   ]
  },
  {
   "cell_type": "code",
   "execution_count": 21,
   "id": "3a890b7d",
   "metadata": {},
   "outputs": [
    {
     "name": "stdout",
     "output_type": "stream",
     "text": [
      "{'Ten': 10, 'Twenty': 20, 'Thirty': 30, 'Fourty': 40, 'Fifty': 50}\n"
     ]
    }
   ],
   "source": [
    "dict1 = {'Ten': 10, 'Twenty': 20, 'Thirty': 30}\n",
    "dict2 = {'Thirty': 30, 'Fourty': 40, 'Fifty': 50}\n",
    "#merger two dictionary int one\n",
    "######################################\n",
    "\n",
    "dict1.update(dict2)\n",
    "print(dict1)\n",
    "#merger two dictionary int one\n",
    "##########################################\n",
    "z = dict(dict.items() | dict2.items())\n",
    "print(z)"
   ]
  },
  {
   "cell_type": "code",
   "execution_count": 34,
   "id": "c289e725",
   "metadata": {},
   "outputs": [
    {
     "name": "stdout",
     "output_type": "stream",
     "text": [
      "{'Fifty': 50, 'Ten': 10, 'Fourty': 40, 'Thirty': 30, 'Twenty': 20}\n"
     ]
    }
   ],
   "source": [
    "dict1 = {'Ten': 10, 'Twenty': 20, 'Thirty': 30}\n",
    "dict2 = {'Thirty': 30, 'Fourty': 40, 'Fifty': 50}\n",
    "#dict1.items()\n",
    "z = dict(dict1.items() | dict2.items())\n",
    "print(z)"
   ]
  },
  {
   "cell_type": "code",
   "execution_count": 35,
   "id": "dc014a69",
   "metadata": {},
   "outputs": [],
   "source": [
    "sampleDict = {\n",
    "    \"class\": {\n",
    "        \"student\": {\n",
    "            \"name\": \"Mike\",\n",
    "            \"marks\": {\n",
    "                \"physics\": 70,\n",
    "                \"history\": 80\n",
    "            }\n",
    "        }\n",
    "    }\n",
    "}"
   ]
  },
  {
   "cell_type": "code",
   "execution_count": 40,
   "id": "31c0fa8f",
   "metadata": {},
   "outputs": [
    {
     "data": {
      "text/plain": [
       "80"
      ]
     },
     "execution_count": 40,
     "metadata": {},
     "output_type": "execute_result"
    }
   ],
   "source": [
    "sampleDict['class'][\"student\"][\"marks\"][\"history\"]"
   ]
  },
  {
   "cell_type": "code",
   "execution_count": 41,
   "id": "36f8e3b3",
   "metadata": {},
   "outputs": [
    {
     "name": "stdout",
     "output_type": "stream",
     "text": [
      "{'Kelly': {'designation': 'Developer', 'salary': 8000}, 'Emma': {'designation': 'Developer', 'salary': 8000}}\n"
     ]
    }
   ],
   "source": [
    "employees = ['Kelly', 'Emma']\n",
    "defaults = {\"designation\": 'Developer', \"salary\": 8000}\n",
    "\n",
    "#{'Kelly': {'designation': 'Developer', 'salary': 8000}, 'Emma': {'designation': 'Developer', 'salary': 8000}}\n",
    "dict1 = {key:defaults for key in employees}\n",
    "print(dict1)"
   ]
  },
  {
   "cell_type": "code",
   "execution_count": 42,
   "id": "ebda1beb",
   "metadata": {},
   "outputs": [
    {
     "name": "stdout",
     "output_type": "stream",
     "text": [
      "yes\n"
     ]
    }
   ],
   "source": [
    "#how to check emma is present in my dictiory\n",
    "if 'Emma' in dict1:\n",
    "    print('yes')\n",
    "else:\n",
    "    print('no')"
   ]
  },
  {
   "cell_type": "code",
   "execution_count": 49,
   "id": "69296988",
   "metadata": {},
   "outputs": [
    {
     "data": {
      "text/plain": [
       "{'name': 'Kelly', 'age': 25, 'salary': 8000, 'location': 'New york'}"
      ]
     },
     "execution_count": 49,
     "metadata": {},
     "output_type": "execute_result"
    }
   ],
   "source": [
    "sample_dict = {\n",
    "  \"name\": \"Kelly\",\n",
    "  \"age\":25,\n",
    "  \"salary\": 8000,\n",
    "  \"city\": \"New york\"\n",
    "}\n",
    "\n",
    "#output={'name': 'Kelly', 'age': 25, 'salary': 8000, 'location': 'New york'}\n",
    "sample_dict['location']=sample_dict.pop('city')\n",
    "sample_dict"
   ]
  },
  {
   "cell_type": "code",
   "execution_count": null,
   "id": "d8a4c42e",
   "metadata": {},
   "outputs": [],
   "source": []
  }
 ],
 "metadata": {
  "kernelspec": {
   "display_name": "Python 3",
   "language": "python",
   "name": "python3"
  },
  "language_info": {
   "codemirror_mode": {
    "name": "ipython",
    "version": 3
   },
   "file_extension": ".py",
   "mimetype": "text/x-python",
   "name": "python",
   "nbconvert_exporter": "python",
   "pygments_lexer": "ipython3",
   "version": "3.8.8"
  }
 },
 "nbformat": 4,
 "nbformat_minor": 5
}
