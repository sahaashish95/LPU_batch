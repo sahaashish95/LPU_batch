{
 "cells": [
  {
   "cell_type": "code",
   "execution_count": 4,
   "id": "129268bd",
   "metadata": {},
   "outputs": [
    {
     "data": {
      "text/plain": [
       "array([[ 0,  1,  2,  3],\n",
       "       [ 4,  5,  6,  7],\n",
       "       [ 8,  9, 10, 11],\n",
       "       [12, 13, 14, 15],\n",
       "       [16, 17, 18, 19],\n",
       "       [20, 21, 22, 23]])"
      ]
     },
     "execution_count": 4,
     "metadata": {},
     "output_type": "execute_result"
    }
   ],
   "source": [
    "import numpy as np\n",
    "a=np.arange(24).reshape(6,4)\n",
    "a"
   ]
  },
  {
   "cell_type": "code",
   "execution_count": 6,
   "id": "04625bb9",
   "metadata": {},
   "outputs": [
    {
     "data": {
      "text/plain": [
       "array([ 0,  1,  2,  3,  4,  5,  6,  7,  8,  9, 10, 11, 12, 13, 14, 15, 16,\n",
       "       17, 18, 19, 20, 21, 22, 23])"
      ]
     },
     "execution_count": 6,
     "metadata": {},
     "output_type": "execute_result"
    }
   ],
   "source": [
    "a.flatten()"
   ]
  },
  {
   "cell_type": "code",
   "execution_count": 12,
   "id": "478c383f",
   "metadata": {},
   "outputs": [
    {
     "data": {
      "text/plain": [
       "array([[ 0,  1,  2,  3],\n",
       "       [ 4,  5,  6,  7],\n",
       "       [ 8,  9, 10, 11],\n",
       "       [12, 13, 14, 15],\n",
       "       [16, 17, 18, 19],\n",
       "       [20, 21, 22, 23]])"
      ]
     },
     "execution_count": 12,
     "metadata": {},
     "output_type": "execute_result"
    }
   ],
   "source": [
    "b=np.arange(24).reshape(6,4)\n",
    "b"
   ]
  },
  {
   "cell_type": "code",
   "execution_count": 16,
   "id": "52794c7f",
   "metadata": {},
   "outputs": [
    {
     "data": {
      "text/plain": [
       "array([[ 0,  1,  2,  3,  0,  1,  2,  3],\n",
       "       [ 4,  5,  6,  7,  4,  5,  6,  7],\n",
       "       [ 8,  9, 10, 11,  8,  9, 10, 11],\n",
       "       [12, 13, 14, 15, 12, 13, 14, 15],\n",
       "       [16, 17, 18, 19, 16, 17, 18, 19],\n",
       "       [20, 21, 22, 23, 20, 21, 22, 23]])"
      ]
     },
     "execution_count": 16,
     "metadata": {},
     "output_type": "execute_result"
    }
   ],
   "source": [
    "np.concatenate((a,b),axis=1)"
   ]
  },
  {
   "cell_type": "code",
   "execution_count": 17,
   "id": "b05727d1",
   "metadata": {},
   "outputs": [
    {
     "data": {
      "text/plain": [
       "array([[ 0,  1,  2,  3],\n",
       "       [ 4,  5,  6,  7],\n",
       "       [ 8,  9, 10, 11],\n",
       "       [12, 13, 14, 15],\n",
       "       [16, 17, 18, 19],\n",
       "       [20, 21, 22, 23],\n",
       "       [ 0,  1,  2,  3],\n",
       "       [ 4,  5,  6,  7],\n",
       "       [ 8,  9, 10, 11],\n",
       "       [12, 13, 14, 15],\n",
       "       [16, 17, 18, 19],\n",
       "       [20, 21, 22, 23]])"
      ]
     },
     "execution_count": 17,
     "metadata": {},
     "output_type": "execute_result"
    }
   ],
   "source": [
    "np.concatenate((a,b),axis=0)"
   ]
  },
  {
   "cell_type": "code",
   "execution_count": 21,
   "id": "38de3d8e",
   "metadata": {},
   "outputs": [
    {
     "data": {
      "text/plain": [
       "[array([1, 2, 3]), array([4, 5, 6]), array([7, 8, 9])]"
      ]
     },
     "execution_count": 21,
     "metadata": {},
     "output_type": "execute_result"
    }
   ],
   "source": [
    "b=np.array([1,2,3,4,5,6,7,8,9])\n",
    "np.array_split(b,3)"
   ]
  },
  {
   "cell_type": "code",
   "execution_count": 22,
   "id": "3ade4da6",
   "metadata": {},
   "outputs": [
    {
     "data": {
      "text/plain": [
       "3"
      ]
     },
     "execution_count": 22,
     "metadata": {},
     "output_type": "execute_result"
    }
   ],
   "source": [
    "b[2]"
   ]
  },
  {
   "cell_type": "code",
   "execution_count": 23,
   "id": "fe0eb81a",
   "metadata": {},
   "outputs": [
    {
     "data": {
      "text/plain": [
       "array([2, 3, 4, 5, 6])"
      ]
     },
     "execution_count": 23,
     "metadata": {},
     "output_type": "execute_result"
    }
   ],
   "source": [
    "b[1:6]"
   ]
  },
  {
   "cell_type": "code",
   "execution_count": 24,
   "id": "e0528d41",
   "metadata": {},
   "outputs": [
    {
     "data": {
      "text/plain": [
       "array([2, 4, 6, 8])"
      ]
     },
     "execution_count": 24,
     "metadata": {},
     "output_type": "execute_result"
    }
   ],
   "source": [
    "b[1:8:2]"
   ]
  },
  {
   "cell_type": "code",
   "execution_count": 25,
   "id": "bd5ddc6c",
   "metadata": {},
   "outputs": [
    {
     "name": "stdout",
     "output_type": "stream",
     "text": [
      "[[ 1  2  3  4  5]\n",
      " [ 6  7  8  9 10]]\n",
      "[7 8 9]\n"
     ]
    }
   ],
   "source": [
    "\n",
    "arr = np.array([[1, 2, 3, 4, 5], [6, 7, 8, 9, 10]])\n",
    "print(arr)\n",
    "print(arr[1, 1:4])#(row,col)"
   ]
  },
  {
   "cell_type": "code",
   "execution_count": 26,
   "id": "7757aa75",
   "metadata": {},
   "outputs": [
    {
     "name": "stdout",
     "output_type": "stream",
     "text": [
      "[[ 1  2  3  4  5]\n",
      " [ 6  7  8  9 10]]\n",
      "[3 8]\n"
     ]
    }
   ],
   "source": [
    "arr = np.array([[1, 2, 3, 4, 5], [6, 7, 8, 9, 10]])\n",
    "print(arr)\n",
    "print(arr[0:2, 2])"
   ]
  },
  {
   "cell_type": "code",
   "execution_count": 27,
   "id": "eca94ce5",
   "metadata": {},
   "outputs": [
    {
     "name": "stdout",
     "output_type": "stream",
     "text": [
      "[[ 1  2  3  4  5]\n",
      " [ 6  7  8  9 10]]\n",
      "[[1 2 3]\n",
      " [6 7 8]]\n"
     ]
    }
   ],
   "source": [
    "arr = np.array([[1, 2, 3, 4, 5], [6, 7, 8, 9, 10]])\n",
    "print(arr)\n",
    "print(arr[0:2,0:3])"
   ]
  },
  {
   "cell_type": "markdown",
   "id": "78c678b8",
   "metadata": {},
   "source": [
    "Example:\n",
    "Input 1:\n",
    "[[11 12 13 14]\n",
    " [21 22 23 24]\n",
    " [31 32 33 34]]\n",
    " \n",
    "Output 1:\n",
    "[11 21 31]\n",
    "[11 12 13 14]\n",
    "[14 24 34]\n",
    "[31 32 33 34]\n",
    "\n",
    "#extract all border rows and column"
   ]
  },
  {
   "cell_type": "code",
   "execution_count": 28,
   "id": "c4b7b4c8",
   "metadata": {},
   "outputs": [
    {
     "name": "stdout",
     "output_type": "stream",
     "text": [
      "[11 21 31]\n",
      "[11 12 13 14]\n",
      "[14 24 34]\n",
      "[31 32 33 34]\n"
     ]
    }
   ],
   "source": [
    "import numpy as np\n",
    "a=np.array([[11, 12, 13, 14],\n",
    "[21, 22, 23, 24],\n",
    "[31, 32, 33, 34]])\n",
    "\n",
    "c1 = a[:, 0]\n",
    "r1= a[0, :]\n",
    "cl = a[:, -1]\n",
    "rl = a[-1, :]\n",
    "\n",
    "print(c1)\n",
    "print(r1)\n",
    "print(cl)\n",
    "print(rl)"
   ]
  },
  {
   "cell_type": "code",
   "execution_count": 45,
   "id": "aea4f29c",
   "metadata": {},
   "outputs": [
    {
     "name": "stdout",
     "output_type": "stream",
     "text": [
      "[2, 5, 6, 7, 8, 11, 15, 25, 27, 31, 31, 32, 36, 39, 41, 43, 48, 50, 61, 80, 82]\n",
      "61.0\n"
     ]
    }
   ],
   "source": [
    "ages = [5,31,43,48,50,41,7,11,15,39,80,82,32,2,8,6,25,36,27,61,31]\n",
    "ages.sort()\n",
    "x = np.percentile(ages, 90)\n",
    "print(ages)\n",
    "print(x)"
   ]
  },
  {
   "cell_type": "code",
   "execution_count": 31,
   "id": "2d9209be",
   "metadata": {},
   "outputs": [
    {
     "data": {
      "text/plain": [
       "21"
      ]
     },
     "execution_count": 31,
     "metadata": {},
     "output_type": "execute_result"
    }
   ],
   "source": [
    "len(ages)"
   ]
  },
  {
   "cell_type": "code",
   "execution_count": 39,
   "id": "262d16f9",
   "metadata": {},
   "outputs": [
    {
     "data": {
      "text/plain": [
       "11.0"
      ]
     },
     "execution_count": 39,
     "metadata": {},
     "output_type": "execute_result"
    }
   ],
   "source": [
    "np.percentile(ages, 25)\n",
    "np.percentile(ages, 95)\n",
    "np.percentile(ages, 25)"
   ]
  },
  {
   "cell_type": "code",
   "execution_count": 38,
   "id": "df905fb1",
   "metadata": {},
   "outputs": [
    {
     "data": {
      "text/plain": [
       "5.25"
      ]
     },
     "execution_count": 38,
     "metadata": {},
     "output_type": "execute_result"
    }
   ],
   "source": [
    "21*0.25"
   ]
  },
  {
   "cell_type": "code",
   "execution_count": null,
   "id": "183dfb58",
   "metadata": {},
   "outputs": [],
   "source": [
    "#make user define percentile function ,that will take list and percentile"
   ]
  },
  {
   "cell_type": "code",
   "execution_count": 43,
   "id": "70172629",
   "metadata": {},
   "outputs": [
    {
     "data": {
      "text/plain": [
       "26"
      ]
     },
     "execution_count": 43,
     "metadata": {},
     "output_type": "execute_result"
    }
   ],
   "source": [
    "import math\n",
    "math.ceil(25.1)"
   ]
  },
  {
   "cell_type": "code",
   "execution_count": 48,
   "id": "e3955738",
   "metadata": {},
   "outputs": [
    {
     "name": "stdout",
     "output_type": "stream",
     "text": [
      "5.25\n",
      "5\n",
      "11\n"
     ]
    }
   ],
   "source": [
    "#user define function in percentile\n",
    "import math\n",
    "def percentile(list, percent):\n",
    "    list.sort()\n",
    "    index=(len(list)*percent)/100#\n",
    "    print(index)\n",
    "    i=math.ceil(index)-1\n",
    "    print(i)\n",
    "    print(list[i])\n",
    "    \n",
    "ages = [5,31,43,48,50,41,7,11,15,39,80,82,32,2,8,6,25,36,27,61,31]\n",
    "percentile(ages,25)"
   ]
  },
  {
   "cell_type": "code",
   "execution_count": 22,
   "id": "5c49e681",
   "metadata": {},
   "outputs": [
    {
     "data": {
      "text/plain": [
       "array([[ 0,  1,  2],\n",
       "       [ 3,  4,  5],\n",
       "       [ 6,  7,  8],\n",
       "       [ 9, 10, 11],\n",
       "       [12, 13, 14],\n",
       "       [15, 16, 17],\n",
       "       [18, 19, 20],\n",
       "       [21, 22, 23],\n",
       "       [24, 25, 26],\n",
       "       [27, 28, 29]])"
      ]
     },
     "execution_count": 22,
     "metadata": {},
     "output_type": "execute_result"
    }
   ],
   "source": [
    "import numpy as np\n",
    "a=np.arange(30)\n",
    "a=a.reshape(10,3)\n",
    "a"
   ]
  },
  {
   "cell_type": "code",
   "execution_count": 6,
   "id": "40579eb0",
   "metadata": {},
   "outputs": [
    {
     "data": {
      "text/plain": [
       "10"
      ]
     },
     "execution_count": 6,
     "metadata": {},
     "output_type": "execute_result"
    }
   ],
   "source": [
    "#how to print 10 in above array\n",
    "a[3][1]"
   ]
  },
  {
   "cell_type": "code",
   "execution_count": 9,
   "id": "f298d04f",
   "metadata": {},
   "outputs": [
    {
     "data": {
      "text/plain": [
       "array([[  0,   1,   2],\n",
       "       [  3,   4,   5],\n",
       "       [  6,   7,   8],\n",
       "       [  9,  10,  11],\n",
       "       [ 12,  13,  14],\n",
       "       [ 15,  16,  17],\n",
       "       [ 18, 100,  20],\n",
       "       [ 21,  22,  23],\n",
       "       [ 24,  25,  26],\n",
       "       [ 27,  28,  29]])"
      ]
     },
     "execution_count": 9,
     "metadata": {},
     "output_type": "execute_result"
    }
   ],
   "source": [
    "#change 19 with 100\n",
    "a[6][1]=100\n",
    "a"
   ]
  },
  {
   "cell_type": "code",
   "execution_count": 10,
   "id": "26df35f0",
   "metadata": {},
   "outputs": [
    {
     "ename": "ValueError",
     "evalue": "invalid literal for int() with base 10: 'lpu'",
     "output_type": "error",
     "traceback": [
      "\u001b[1;31m---------------------------------------------------------------------------\u001b[0m",
      "\u001b[1;31mValueError\u001b[0m                                Traceback (most recent call last)",
      "\u001b[1;32m<ipython-input-10-c5aa7f41adf5>\u001b[0m in \u001b[0;36m<module>\u001b[1;34m\u001b[0m\n\u001b[0;32m      1\u001b[0m \u001b[1;31m# could you replace 17 with 'lpu'\u001b[0m\u001b[1;33m\u001b[0m\u001b[1;33m\u001b[0m\u001b[1;33m\u001b[0m\u001b[0m\n\u001b[1;32m----> 2\u001b[1;33m \u001b[0ma\u001b[0m\u001b[1;33m[\u001b[0m\u001b[1;36m6\u001b[0m\u001b[1;33m]\u001b[0m\u001b[1;33m[\u001b[0m\u001b[1;36m1\u001b[0m\u001b[1;33m]\u001b[0m\u001b[1;33m=\u001b[0m\u001b[1;34m'lpu'\u001b[0m\u001b[1;33m\u001b[0m\u001b[1;33m\u001b[0m\u001b[0m\n\u001b[0m",
      "\u001b[1;31mValueError\u001b[0m: invalid literal for int() with base 10: 'lpu'"
     ]
    }
   ],
   "source": [
    "# could you replace 17 with 'lpu'\n",
    "a[6][1]='lpu'"
   ]
  },
  {
   "cell_type": "code",
   "execution_count": 23,
   "id": "3e42bcf8",
   "metadata": {},
   "outputs": [],
   "source": [
    "a=a.astype('str')\n",
    "a[6][1]='lpu'\n"
   ]
  },
  {
   "cell_type": "code",
   "execution_count": 25,
   "id": "089e23a4",
   "metadata": {},
   "outputs": [
    {
     "data": {
      "text/plain": [
       "(10, 3)"
      ]
     },
     "execution_count": 25,
     "metadata": {},
     "output_type": "execute_result"
    }
   ],
   "source": [
    "a.shape"
   ]
  },
  {
   "cell_type": "code",
   "execution_count": 27,
   "id": "fce87e13",
   "metadata": {},
   "outputs": [
    {
     "name": "stdout",
     "output_type": "stream",
     "text": [
      "[\"['0' '1' '2']\" \"['3' '4' '5']\" \"['6' '7' '8']\" \"['9' '10' '11']\"\n",
      " \"['12' '13' '14']\" \"['15' '16' '17']\" \"['18' 'lpu' '20']\"\n",
      " \"['21' '22' '23']\" \"['24' '25' '26']\" \"['27' '28' '29']\"]\n"
     ]
    }
   ],
   "source": [
    "a=np.array([str(x) for x in a])\n",
    "a=np.char.replace(a,'100','lpu')\n",
    "print(a)"
   ]
  },
  {
   "cell_type": "code",
   "execution_count": 20,
   "id": "97ef73f5",
   "metadata": {},
   "outputs": [
    {
     "data": {
      "text/plain": [
       "(10,)"
      ]
     },
     "execution_count": 20,
     "metadata": {},
     "output_type": "execute_result"
    }
   ],
   "source": [
    "a.shape"
   ]
  },
  {
   "cell_type": "code",
   "execution_count": 28,
   "id": "8185ebf3",
   "metadata": {},
   "outputs": [
    {
     "ename": "ValueError",
     "evalue": "cannot reshape array of size 10 into shape (10,3)",
     "output_type": "error",
     "traceback": [
      "\u001b[1;31m---------------------------------------------------------------------------\u001b[0m",
      "\u001b[1;31mValueError\u001b[0m                                Traceback (most recent call last)",
      "\u001b[1;32m<ipython-input-28-df2b7baad933>\u001b[0m in \u001b[0;36m<module>\u001b[1;34m\u001b[0m\n\u001b[1;32m----> 1\u001b[1;33m \u001b[0ma\u001b[0m\u001b[1;33m.\u001b[0m\u001b[0mreshape\u001b[0m\u001b[1;33m(\u001b[0m\u001b[1;36m10\u001b[0m\u001b[1;33m,\u001b[0m\u001b[1;36m3\u001b[0m\u001b[1;33m)\u001b[0m\u001b[1;33m\u001b[0m\u001b[1;33m\u001b[0m\u001b[0m\n\u001b[0m",
      "\u001b[1;31mValueError\u001b[0m: cannot reshape array of size 10 into shape (10,3)"
     ]
    }
   ],
   "source": [
    "a.reshape(10,3)"
   ]
  },
  {
   "cell_type": "code",
   "execution_count": null,
   "id": "f1e87039",
   "metadata": {},
   "outputs": [],
   "source": [
    "#will give some number as string format and retuen the string in reverse array format with float data type\n",
    "#ex\n",
    "#input='1 2 3 4 5 6 7'\n",
    "#out=[7.0,6.0,5.0,4.0,3.0,2.0,1.0]"
   ]
  },
  {
   "cell_type": "code",
   "execution_count": 2,
   "id": "2e8e350c",
   "metadata": {},
   "outputs": [
    {
     "name": "stdout",
     "output_type": "stream",
     "text": [
      "enter string1 2 3 4 5 6 7\n",
      "[7. 6. 5. 4. 3. 2. 1.]\n"
     ]
    }
   ],
   "source": [
    "import numpy as np\n",
    "a=input('enter string')\n",
    "\n",
    "a=np.array(a.split()).astype('float')\n",
    "a=a[::-1]\n",
    "print(a)"
   ]
  },
  {
   "cell_type": "code",
   "execution_count": 3,
   "id": "e430b089",
   "metadata": {},
   "outputs": [
    {
     "name": "stdout",
     "output_type": "stream",
     "text": [
      "1 2 3 4 5 6\n",
      "[6. 5. 4. 3. 2. 1.]\n"
     ]
    }
   ],
   "source": [
    "l=list(map(float,input().split()))\n",
    "l=l[::-1]\n",
    "print(np.array(l))"
   ]
  },
  {
   "cell_type": "code",
   "execution_count": null,
   "id": "fdee975c",
   "metadata": {},
   "outputs": [],
   "source": [
    "Checkerboard pattern:                                                   \n",
    "[[0 1 0 1 0 1 0 1]                                                      \n",
    " [1 0 1 0 1 0 1 0]                                                      \n",
    " [0 1 0 1 0 1 0 1]                                                      \n",
    " [1 0 1 0 1 0 1 0]                                                      \n",
    " [0 1 0 1 0 1 0 1]                                                      \n",
    " [1 0 1 0 1 0 1 0]                                                      \n",
    " [0 1 0 1 0 1 0 1]                                                      \n",
    " [1 0 1 0 1 0 1 0]]\n",
    "#print this pattern"
   ]
  },
  {
   "cell_type": "code",
   "execution_count": 4,
   "id": "8175fc82",
   "metadata": {},
   "outputs": [
    {
     "name": "stdout",
     "output_type": "stream",
     "text": [
      "[[0 1 0 1 0 1 0 1]\n",
      " [1 0 1 0 1 0 1 0]\n",
      " [0 1 0 1 0 1 0 1]\n",
      " [1 0 1 0 1 0 1 0]\n",
      " [0 1 0 1 0 1 0 1]\n",
      " [1 0 1 0 1 0 1 0]\n",
      " [0 1 0 1 0 1 0 1]\n",
      " [1 0 1 0 1 0 1 0]]\n"
     ]
    }
   ],
   "source": [
    "import numpy as np\n",
    "a=np.zeros((8,8),dtype=int)\n",
    "a[1::2, ::2] = 1\n",
    "a[::2, 1::2] = 1\n",
    "print(a)"
   ]
  },
  {
   "cell_type": "code",
   "execution_count": 7,
   "id": "7b9402f1",
   "metadata": {},
   "outputs": [
    {
     "name": "stdout",
     "output_type": "stream",
     "text": [
      "[[0 1 0 1 0 1 0 1]\n",
      " [1 0 1 0 1 0 1 0]\n",
      " [0 1 0 1 0 1 0 1]\n",
      " [1 0 1 0 1 0 1 0]\n",
      " [0 1 0 1 0 1 0 1]\n",
      " [1 0 1 0 1 0 1 0]\n",
      " [0 1 0 1 0 1 0 1]\n",
      " [1 0 1 0 1 0 1 0]]\n"
     ]
    }
   ],
   "source": [
    "a=np.zeros([8,8],dtype='int')\n",
    "for i in range(8):\n",
    "    if i%2==0:\n",
    "        for j in range(8):\n",
    "            if j%2!=0:\n",
    "                a[i][j]=1\n",
    "    else:\n",
    "        for j in range(8):\n",
    "            if j%2==0:\n",
    "                a[i][j]=1\n",
    "\n",
    "print(a)"
   ]
  },
  {
   "cell_type": "code",
   "execution_count": 9,
   "id": "59d1a6f2",
   "metadata": {},
   "outputs": [
    {
     "name": "stdout",
     "output_type": "stream",
     "text": [
      "[[0 1 0 1 0 1 0 1]\n",
      " [1 0 1 0 1 0 1 0]\n",
      " [0 1 0 1 0 1 0 1]\n",
      " [1 0 1 0 1 0 1 0]\n",
      " [0 1 0 1 0 1 0 1]\n",
      " [1 0 1 0 1 0 1 0]\n",
      " [0 1 0 1 0 1 0 1]\n",
      " [1 0 1 0 1 0 1 0]]\n"
     ]
    }
   ],
   "source": [
    "arr=np.array([[0,1],[1,0]])\n",
    "print(np.tile(arr,(8//2,8//2)))"
   ]
  },
  {
   "cell_type": "code",
   "execution_count": null,
   "id": "0cd06e7b",
   "metadata": {},
   "outputs": [],
   "source": [
    "The first line contains the space separated values of N and M.\n",
    "The next  lines contains the space separated elements of M columns.\n",
    "\n",
    "Output Format\n",
    "\n",
    "First, print the transpose array and then print the flatten.\n",
    "\n",
    "Sample Input\n",
    "\n",
    "2 2\n",
    "1 2\n",
    "3 4   #[[1,2],\n",
    "        [3,4]]\n",
    "Sample Output\n",
    "\n",
    "[[1 3]\n",
    " [2 4]]\n",
    "[1 2 3 4]"
   ]
  },
  {
   "cell_type": "code",
   "execution_count": 13,
   "id": "1d3dcb6a",
   "metadata": {},
   "outputs": [
    {
     "name": "stdout",
     "output_type": "stream",
     "text": [
      "3 4\n",
      "1 2 3 4\n",
      "2 3 4 5\n",
      "4 5 6 7\n",
      "[[1 2 4]\n",
      " [2 3 5]\n",
      " [3 4 6]\n",
      " [4 5 7]]\n",
      "[1 2 3 4 2 3 4 5 4 5 6 7]\n"
     ]
    }
   ],
   "source": [
    "N,M=map(int,input().split())\n",
    "l=[]\n",
    "for i in range(N):\n",
    "    temp=list(map(int,input().split()))\n",
    "    l.append(temp)\n",
    "\n",
    "l=np.array(l)\n",
    "print(l.transpose())\n",
    "print(l.flatten())"
   ]
  },
  {
   "cell_type": "code",
   "execution_count": null,
   "id": "3b7c48a3",
   "metadata": {},
   "outputs": [],
   "source": []
  }
 ],
 "metadata": {
  "kernelspec": {
   "display_name": "Python 3",
   "language": "python",
   "name": "python3"
  },
  "language_info": {
   "codemirror_mode": {
    "name": "ipython",
    "version": 3
   },
   "file_extension": ".py",
   "mimetype": "text/x-python",
   "name": "python",
   "nbconvert_exporter": "python",
   "pygments_lexer": "ipython3",
   "version": "3.8.8"
  }
 },
 "nbformat": 4,
 "nbformat_minor": 5
}
