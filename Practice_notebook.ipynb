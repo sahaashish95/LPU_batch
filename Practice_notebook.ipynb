{
 "cells": [
  {
   "cell_type": "code",
   "execution_count": null,
   "id": "0ec19f63",
   "metadata": {},
   "outputs": [],
   "source": [
    "Write a Python program to convert more than one list to nested dictionary. \n",
    "Original strings:\n",
    "['S001', 'S002', 'S003', 'S004']\n",
    "['Adina Park', 'Leyton Marsh', 'Duncan Boyle', 'Saim Richards']\n",
    "[85, 98, 89, 92]\n",
    "\n",
    "Nested dictionary:\n",
    "[{'S001': {'Adina Park': 85}}, {'S002': {'Leyton Marsh': 98}}, {'S003': {'Duncan Boyle': 89}}, {'S004': {'Saim Richards': 92}}]"
   ]
  },
  {
   "cell_type": "code",
   "execution_count": 1,
   "id": "df3a172b",
   "metadata": {},
   "outputs": [
    {
     "name": "stdout",
     "output_type": "stream",
     "text": [
      "[{'S001': {'Adina Park': 85}}, {'S002': {'Leyton Marsh': 98}}, {'S003': {'Duncan Boyle': 89}}, {'S004': {'Saim Richards': 92}}]\n"
     ]
    }
   ],
   "source": [
    "l1=['S001', 'S002', 'S003', 'S004']\n",
    "l2=['Adina Park', 'Leyton Marsh', 'Duncan Boyle', 'Saim Richards']\n",
    "l3=[85, 98, 89, 92]\n",
    "\n",
    "ans = [{x: {y: z}} for (x, y, z) in zip(l1, l2, l3)]\n",
    "print(ans)"
   ]
  },
  {
   "cell_type": "code",
   "execution_count": null,
   "id": "835fefc1",
   "metadata": {},
   "outputs": [],
   "source": [
    "-take how many input of student data he want to give\n",
    "-if user 3 or 4 etc you need to take that number of input base on the 1st step input\n",
    "-you need to take student name for wich he want to calculate avaerage marks and return that average marks\n",
    "\n",
    "3\n",
    "Krishna 67 68 69\n",
    "Arjun 70 98 63\n",
    "Malika 52 56 60\n",
    "Malika\n",
    "\n",
    "output=56.00"
   ]
  },
  {
   "cell_type": "code",
   "execution_count": 10,
   "id": "7d95f873",
   "metadata": {},
   "outputs": [
    {
     "name": "stdout",
     "output_type": "stream",
     "text": [
      "enter number of students3\n",
      "Krishna 67 68 69\n",
      "Arjun 70 98 63\n",
      "Malika 52 56 60\n",
      "{'Krishna': [67, 68, 69], 'Arjun': [70, 98, 63], 'Malika': [52, 56, 60]}\n",
      "enter name of students whose average need to calculateArjun\n",
      "77.0\n"
     ]
    }
   ],
   "source": [
    "n=int(input('enter number of students'))\n",
    "dic={}\n",
    "for i in range(0,n):\n",
    "    Input = input()\n",
    "    list = Input.split()\n",
    "    dic[list[0]]=[int(list[x]) for x in range(1, len(list))]\n",
    "\n",
    "print(dic)\n",
    "name=input('enter name of students whose average need to calculate')\n",
    "avgList=dic[name]\n",
    "total = sum(avgList)\n",
    "average=total/len(avgList)\n",
    "print(average)"
   ]
  },
  {
   "cell_type": "code",
   "execution_count": 7,
   "id": "cc48870f",
   "metadata": {},
   "outputs": [
    {
     "name": "stdout",
     "output_type": "stream",
     "text": [
      "Krishna 67 68 69\n"
     ]
    },
    {
     "data": {
      "text/plain": [
       "['Krishna', '67', '68', '69']"
      ]
     },
     "execution_count": 7,
     "metadata": {},
     "output_type": "execute_result"
    }
   ],
   "source": [
    "input().split()"
   ]
  },
  {
   "cell_type": "code",
   "execution_count": 8,
   "id": "590aff65",
   "metadata": {},
   "outputs": [
    {
     "data": {
      "text/plain": [
       "{'Malika': [52, 56, 60]}"
      ]
     },
     "execution_count": 8,
     "metadata": {},
     "output_type": "execute_result"
    }
   ],
   "source": [
    "dic"
   ]
  },
  {
   "cell_type": "code",
   "execution_count": 11,
   "id": "f6b3948b",
   "metadata": {},
   "outputs": [
    {
     "data": {
      "text/plain": [
       "-6"
      ]
     },
     "execution_count": 11,
     "metadata": {},
     "output_type": "execute_result"
    }
   ],
   "source": [
    "2-3-5"
   ]
  },
  {
   "cell_type": "code",
   "execution_count": 13,
   "id": "826a9112",
   "metadata": {},
   "outputs": [
    {
     "data": {
      "text/plain": [
       "0.022222222222222223"
      ]
     },
     "execution_count": 13,
     "metadata": {},
     "output_type": "execute_result"
    }
   ],
   "source": [
    "2/3/5/6"
   ]
  },
  {
   "cell_type": "code",
   "execution_count": 16,
   "id": "1cf09464",
   "metadata": {},
   "outputs": [
    {
     "data": {
      "text/plain": [
       "8"
      ]
     },
     "execution_count": 16,
     "metadata": {},
     "output_type": "execute_result"
    }
   ],
   "source": [
    "2**3"
   ]
  },
  {
   "cell_type": "code",
   "execution_count": 17,
   "id": "b46986f3",
   "metadata": {},
   "outputs": [
    {
     "data": {
      "text/plain": [
       "64"
      ]
     },
     "execution_count": 17,
     "metadata": {},
     "output_type": "execute_result"
    }
   ],
   "source": [
    "8**2"
   ]
  },
  {
   "cell_type": "code",
   "execution_count": null,
   "id": "4e7bdced",
   "metadata": {},
   "outputs": [],
   "source": [
    "Original dictionaries:\n",
    "{'w': 50, 'x': 100, 'y': 'Green', 'z': 400}\n",
    "{'x': 300, 'y': 'Red', 'z': 600}\n",
    "\n",
    "Combined dictionaries, creating a list of values for each key:\n",
    "{'w': [50], 'x': [100, 300], 'y': ['Green', 'Red'], 'z': [400, 600]}"
   ]
  },
  {
   "cell_type": "code",
   "execution_count": 18,
   "id": "fec30f2a",
   "metadata": {},
   "outputs": [],
   "source": [
    "x={'w': 50, 'x': 100, 'y': 'Green', 'z': 400}\n",
    "y={'x': 300, 'y': 'Red', 'z': 600}"
   ]
  },
  {
   "cell_type": "code",
   "execution_count": 29,
   "id": "225c71e5",
   "metadata": {},
   "outputs": [
    {
     "data": {
      "text/plain": [
       "{'w': 50, 'x': [100, 300], 'y': ['Green', 'Red'], 'z': [400, 600]}"
      ]
     },
     "execution_count": 29,
     "metadata": {},
     "output_type": "execute_result"
    }
   ],
   "source": [
    "c={}\n",
    "for i in x:\n",
    "    if i in y:\n",
    "        f=[]\n",
    "        f.append(x[i])\n",
    "        f.append(y[i])\n",
    "        c[i]=f\n",
    "    else:\n",
    "        c[i]=x[i]\n",
    "        \n",
    "c"
   ]
  },
  {
   "cell_type": "code",
   "execution_count": null,
   "id": "1c759539",
   "metadata": {},
   "outputs": [],
   "source": [
    "[10,12,13]\n",
    "log value of 10 is 1\n",
    "log value of 12 is 2\n",
    "log value of 13 is 3"
   ]
  }
 ],
 "metadata": {
  "kernelspec": {
   "display_name": "Python 3",
   "language": "python",
   "name": "python3"
  },
  "language_info": {
   "codemirror_mode": {
    "name": "ipython",
    "version": 3
   },
   "file_extension": ".py",
   "mimetype": "text/x-python",
   "name": "python",
   "nbconvert_exporter": "python",
   "pygments_lexer": "ipython3",
   "version": "3.8.8"
  }
 },
 "nbformat": 4,
 "nbformat_minor": 5
}
