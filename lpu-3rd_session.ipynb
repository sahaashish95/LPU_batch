{
 "cells": [
  {
   "cell_type": "code",
   "execution_count": null,
   "id": "64d07a17",
   "metadata": {},
   "outputs": [],
   "source": [
    "a='hi my name is python'\n",
    "x='aeiou'\n",
    "\n",
    "print\n",
    "vowel=iaeo\n",
    "constnat=hmyspytn\n",
    "in"
   ]
  },
  {
   "cell_type": "code",
   "execution_count": 6,
   "id": "d60f125e",
   "metadata": {},
   "outputs": [
    {
     "data": {
      "text/plain": [
       "('iaeioAU', 'hmynmspythnNDLP')"
      ]
     },
     "execution_count": 6,
     "metadata": {},
     "output_type": "execute_result"
    }
   ],
   "source": [
    "a='hi my name is python AND LPU'\n",
    "x='aeiouAEIOU'\n",
    "vowel=''\n",
    "cons=''\n",
    "for i in a:\n",
    "    if i in x:\n",
    "        #print(i,'is vowel')\n",
    "        vowel+=i\n",
    "    elif i==' ':\n",
    "        continue\n",
    "    else:\n",
    "        cons+=i\n",
    "        \n",
    "vowel,cons"
   ]
  },
  {
   "cell_type": "code",
   "execution_count": 7,
   "id": "fc9940e2",
   "metadata": {},
   "outputs": [
    {
     "data": {
      "text/plain": [
       "('iaeioAU', 'hmynmspythnNDLP')"
      ]
     },
     "execution_count": 7,
     "metadata": {},
     "output_type": "execute_result"
    }
   ],
   "source": [
    "a='hi my name is python AND LPU'\n",
    "x='aeiou'\n",
    "vowel=''\n",
    "cons=''\n",
    "for i in a:\n",
    "    if i.lower() in x:\n",
    "        #print(i,'is vowel')\n",
    "        vowel+=i\n",
    "    elif i==' ':\n",
    "        continue\n",
    "    else:\n",
    "        cons+=i\n",
    "        \n",
    "vowel,cons"
   ]
  },
  {
   "cell_type": "code",
   "execution_count": null,
   "id": "f16578a2",
   "metadata": {},
   "outputs": [],
   "source": [
    "factorial progran-take input from user and print factorial\n",
    "5 =120=5*4*3*2*1"
   ]
  },
  {
   "cell_type": "code",
   "execution_count": 10,
   "id": "951da175",
   "metadata": {},
   "outputs": [
    {
     "name": "stdout",
     "output_type": "stream",
     "text": [
      "enter a number:5\n",
      "120\n"
     ]
    }
   ],
   "source": [
    "n = int(input('enter a number:'))\n",
    "fact = 1\n",
    "for i in range(1,n+1):\n",
    "    fact = fact*i\n",
    "print(fact)\n",
    "\n"
   ]
  },
  {
   "cell_type": "code",
   "execution_count": 20,
   "id": "4462fa08",
   "metadata": {},
   "outputs": [
    {
     "name": "stdout",
     "output_type": "stream",
     "text": [
      "enter number5\n"
     ]
    },
    {
     "data": {
      "text/plain": [
       "120"
      ]
     },
     "execution_count": 20,
     "metadata": {},
     "output_type": "execute_result"
    }
   ],
   "source": [
    "a=int(input('enter number'))#5\n",
    "fact=1\n",
    "while a>0:\n",
    "    fact*=a #fact=fact*a\n",
    "    a-=1#4\n",
    "\n",
    "fact"
   ]
  },
  {
   "cell_type": "code",
   "execution_count": 21,
   "id": "60056f95",
   "metadata": {},
   "outputs": [
    {
     "name": "stdout",
     "output_type": "stream",
     "text": [
      "1\n",
      "2\n",
      "3\n",
      "4\n",
      "5\n"
     ]
    }
   ],
   "source": [
    "i = 1\n",
    "while i < 6:\n",
    "  print(i)\n",
    "  i += 1\n"
   ]
  },
  {
   "cell_type": "code",
   "execution_count": 18,
   "id": "b6871563",
   "metadata": {},
   "outputs": [
    {
     "name": "stdout",
     "output_type": "stream",
     "text": [
      "1\n",
      "2\n",
      "3\n"
     ]
    }
   ],
   "source": [
    "i = 1\n",
    "while i < 6:\n",
    "  print(i)\n",
    "  if i == 3:\n",
    "    break\n",
    "  i += 1"
   ]
  },
  {
   "cell_type": "code",
   "execution_count": null,
   "id": "a3cbe409",
   "metadata": {},
   "outputs": [],
   "source": [
    "i = 0\n",
    "while i < 6:\n",
    "  i += 1\n",
    "  if i == 3:\n",
    "    continue\n",
    "  print(i)"
   ]
  },
  {
   "cell_type": "code",
   "execution_count": 22,
   "id": "f1e7e057",
   "metadata": {},
   "outputs": [
    {
     "data": {
      "text/plain": [
       "'nohtyp si eman ym ih'"
      ]
     },
     "execution_count": 22,
     "metadata": {},
     "output_type": "execute_result"
    }
   ],
   "source": [
    "a='hi my name is python'\n",
    "a[::-1]"
   ]
  },
  {
   "cell_type": "code",
   "execution_count": 30,
   "id": "2e36a5a6",
   "metadata": {},
   "outputs": [
    {
     "name": "stdout",
     "output_type": "stream",
     "text": [
      "nohtyp si eman ym ih\n"
     ]
    }
   ],
   "source": [
    "str=''\n",
    "for i in range(len(a)-1,-1,-1):\n",
    "    str+=a[i]\n",
    "print(str)"
   ]
  },
  {
   "cell_type": "code",
   "execution_count": 38,
   "id": "ee6e1ad7",
   "metadata": {},
   "outputs": [
    {
     "name": "stdout",
     "output_type": "stream",
     "text": [
      "<class 'int'>\n",
      "<class 'float'>\n",
      "<class 'str'>\n"
     ]
    },
    {
     "data": {
      "text/plain": [
       "1"
      ]
     },
     "execution_count": 38,
     "metadata": {},
     "output_type": "execute_result"
    }
   ],
   "source": [
    "a=[1,2.0,'lpu','f']\n",
    "print(type(a[0]))\n",
    "print(type(a[1]))\n",
    "print(type(a[2]))\n",
    "a[0]"
   ]
  },
  {
   "cell_type": "code",
   "execution_count": 35,
   "id": "7540095e",
   "metadata": {},
   "outputs": [
    {
     "name": "stdout",
     "output_type": "stream",
     "text": [
      "1\n",
      "2.0\n",
      "lpu\n",
      "f\n"
     ]
    }
   ],
   "source": [
    "for i in a:\n",
    "    print(i)"
   ]
  },
  {
   "cell_type": "code",
   "execution_count": 39,
   "id": "eb505d54",
   "metadata": {},
   "outputs": [
    {
     "name": "stdout",
     "output_type": "stream",
     "text": [
      "1\n",
      "2.0\n",
      "lpu\n",
      "f\n"
     ]
    }
   ],
   "source": [
    "for i in range(len(a)):\n",
    "    print(a[i])"
   ]
  },
  {
   "cell_type": "code",
   "execution_count": 36,
   "id": "0fa8cad5",
   "metadata": {},
   "outputs": [
    {
     "data": {
      "text/plain": [
       "['f', 'lpu', 2.0, 1]"
      ]
     },
     "execution_count": 36,
     "metadata": {},
     "output_type": "execute_result"
    }
   ],
   "source": [
    "a[::-1]"
   ]
  },
  {
   "cell_type": "code",
   "execution_count": 37,
   "id": "ce107e07",
   "metadata": {},
   "outputs": [
    {
     "data": {
      "text/plain": [
       "[1, 2.0, 'lpu']"
      ]
     },
     "execution_count": 37,
     "metadata": {},
     "output_type": "execute_result"
    }
   ],
   "source": [
    "a[:3]"
   ]
  },
  {
   "cell_type": "code",
   "execution_count": 40,
   "id": "01fab325",
   "metadata": {},
   "outputs": [
    {
     "data": {
      "text/plain": [
       "['hi', 'my', 'name', 'is', 'python']"
      ]
     },
     "execution_count": 40,
     "metadata": {},
     "output_type": "execute_result"
    }
   ],
   "source": [
    "a='hi my name is python'\n",
    "a.split()"
   ]
  },
  {
   "cell_type": "code",
   "execution_count": 42,
   "id": "1a0d699d",
   "metadata": {},
   "outputs": [
    {
     "data": {
      "text/plain": [
       "['hi-my-name-is-python']"
      ]
     },
     "execution_count": 42,
     "metadata": {},
     "output_type": "execute_result"
    }
   ],
   "source": [
    "a='hi-my-name-is-python'\n",
    "a.split('-')"
   ]
  },
  {
   "cell_type": "code",
   "execution_count": null,
   "id": "748d73d6",
   "metadata": {},
   "outputs": [],
   "source": [
    "python is name my hi"
   ]
  },
  {
   "cell_type": "code",
   "execution_count": 43,
   "id": "0ebd67d3",
   "metadata": {},
   "outputs": [
    {
     "name": "stdout",
     "output_type": "stream",
     "text": [
      "python is name my hi \n"
     ]
    }
   ],
   "source": [
    "a ='hi my name is python'\n",
    "\n",
    "list_1 = a.split()\n",
    "\n",
    "reversedStr=\"\"\n",
    "for i in range(len(list_1)-1,-1,-1):\n",
    "    reversedStr=reversedStr+list_1[i]+\" \"\n",
    "print(reversedStr)"
   ]
  },
  {
   "cell_type": "code",
   "execution_count": 44,
   "id": "01657a6a",
   "metadata": {},
   "outputs": [
    {
     "data": {
      "text/plain": [
       "20"
      ]
     },
     "execution_count": 44,
     "metadata": {},
     "output_type": "execute_result"
    }
   ],
   "source": [
    "len(a)"
   ]
  },
  {
   "cell_type": "code",
   "execution_count": 45,
   "id": "21a8c6e7",
   "metadata": {},
   "outputs": [
    {
     "name": "stdout",
     "output_type": "stream",
     "text": [
      "17\n"
     ]
    }
   ],
   "source": [
    "a ='hi my name is python' #calculate ,length of sring without len function\n",
    "a='hi this is python'\n",
    "count=0\n",
    "for i in a:\n",
    "    count+=1\n",
    "\n",
    "print(count)"
   ]
  },
  {
   "cell_type": "code",
   "execution_count": null,
   "id": "19b738d2",
   "metadata": {},
   "outputs": [],
   "source": []
  }
 ],
 "metadata": {
  "kernelspec": {
   "display_name": "Python 3",
   "language": "python",
   "name": "python3"
  },
  "language_info": {
   "codemirror_mode": {
    "name": "ipython",
    "version": 3
   },
   "file_extension": ".py",
   "mimetype": "text/x-python",
   "name": "python",
   "nbconvert_exporter": "python",
   "pygments_lexer": "ipython3",
   "version": "3.8.8"
  }
 },
 "nbformat": 4,
 "nbformat_minor": 5
}
