{
 "cells": [
  {
   "cell_type": "code",
   "execution_count": 3,
   "id": "2129cab7",
   "metadata": {},
   "outputs": [
    {
     "data": {
      "text/plain": [
       "[10,\n",
       " 11,\n",
       " 12,\n",
       " 13,\n",
       " 14,\n",
       " 15,\n",
       " 16,\n",
       " 17,\n",
       " 18,\n",
       " 19,\n",
       " 20,\n",
       " 21,\n",
       " 22,\n",
       " 23,\n",
       " 24,\n",
       " 25,\n",
       " 26,\n",
       " 27,\n",
       " 28,\n",
       " 29,\n",
       " 30,\n",
       " 31,\n",
       " 32,\n",
       " 33,\n",
       " 34,\n",
       " 35,\n",
       " 36,\n",
       " 37,\n",
       " 38,\n",
       " 39]"
      ]
     },
     "execution_count": 3,
     "metadata": {},
     "output_type": "execute_result"
    }
   ],
   "source": [
    "#reduce\n",
    "a=list(range(10,40))\n",
    "a"
   ]
  },
  {
   "cell_type": "code",
   "execution_count": 4,
   "id": "487be14d",
   "metadata": {},
   "outputs": [
    {
     "name": "stdout",
     "output_type": "stream",
     "text": [
      "735\n"
     ]
    }
   ],
   "source": [
    "a=list(range(10,40))\n",
    "sum=0\n",
    "for i in a:\n",
    "    sum+=i\n",
    "\n",
    "print(sum)"
   ]
  },
  {
   "cell_type": "markdown",
   "id": "30080ad5",
   "metadata": {},
   "source": [
    " reduce() is useful when you need to apply a function to an iterable and reduce it to a single cumulative value."
   ]
  },
  {
   "cell_type": "code",
   "execution_count": 7,
   "id": "309b1c96",
   "metadata": {},
   "outputs": [
    {
     "name": "stdout",
     "output_type": "stream",
     "text": [
      "735\n"
     ]
    }
   ],
   "source": [
    "from functools import reduce\n",
    "\n",
    "q  = reduce(lambda x, y: x+y, range(10,40))\n",
    "\n",
    "print(q)"
   ]
  },
  {
   "cell_type": "code",
   "execution_count": 17,
   "id": "5e812af4",
   "metadata": {},
   "outputs": [
    {
     "name": "stdout",
     "output_type": "stream",
     "text": [
      "2\n"
     ]
    }
   ],
   "source": [
    "students_data = {1:['Sam', 15] , 2:['Sharma',18], 3:['Saina', 16], 4:['Saif',19], 5:['Varun',20]}\n",
    "#want to print count how many key value pair in dictionay whose value is  greatr then 18\n",
    "#2\n",
    "count=0\n",
    "for i in students_data:\n",
    "    if students_data[i][1]>18:\n",
    "        count+=1\n",
    "print(count)\n"
   ]
  },
  {
   "cell_type": "code",
   "execution_count": 18,
   "id": "e9b9423d",
   "metadata": {},
   "outputs": [
    {
     "name": "stdout",
     "output_type": "stream",
     "text": [
      "2\n"
     ]
    }
   ],
   "source": [
    "students_data = {1:['Sam', 15] , 2:['Sharma',18], 3:['Saina', 16], 4:['Saif',19], 5:['Varun',20]}\n",
    "\n",
    "def func(key):\n",
    "    if students_data[key][1]>18:\n",
    "        return True\n",
    "    else:\n",
    "        return False\n",
    "count=len(list(filter(func , students_data)))\n",
    "print(count)"
   ]
  },
  {
   "cell_type": "code",
   "execution_count": 19,
   "id": "cb00bee1",
   "metadata": {},
   "outputs": [
    {
     "data": {
      "text/plain": [
       "[4, 5]"
      ]
     },
     "execution_count": 19,
     "metadata": {},
     "output_type": "execute_result"
    }
   ],
   "source": [
    "list(filter(func , students_data))"
   ]
  },
  {
   "cell_type": "code",
   "execution_count": 16,
   "id": "23ddf7be",
   "metadata": {},
   "outputs": [
    {
     "data": {
      "text/plain": [
       "15"
      ]
     },
     "execution_count": 16,
     "metadata": {},
     "output_type": "execute_result"
    }
   ],
   "source": [
    "students_data[1][1]"
   ]
  },
  {
   "cell_type": "code",
   "execution_count": 12,
   "id": "7b0b6eb3",
   "metadata": {},
   "outputs": [
    {
     "name": "stdout",
     "output_type": "stream",
     "text": [
      "1\n",
      "2\n",
      "3\n",
      "4\n",
      "5\n"
     ]
    }
   ],
   "source": [
    "for i in students_data:\n",
    "    print(i)"
   ]
  },
  {
   "cell_type": "code",
   "execution_count": null,
   "id": "cb5c4ee9",
   "metadata": {},
   "outputs": [],
   "source": [
    "count=len(list(filter(lambda x: True if students_data[x][1]>18 else False , students_data)))\n",
    "print(count)"
   ]
  },
  {
   "cell_type": "code",
   "execution_count": 21,
   "id": "1c590f90",
   "metadata": {},
   "outputs": [
    {
     "data": {
      "text/plain": [
       "2"
      ]
     },
     "execution_count": 21,
     "metadata": {},
     "output_type": "execute_result"
    }
   ],
   "source": [
    "a=list(filter(lambda i:i[1]>18,students_data.values()))\n",
    "len(a)"
   ]
  },
  {
   "cell_type": "code",
   "execution_count": 20,
   "id": "05a49f50",
   "metadata": {},
   "outputs": [
    {
     "data": {
      "text/plain": [
       "dict_values([['Sam', 15], ['Sharma', 18], ['Saina', 16], ['Saif', 19], ['Varun', 20]])"
      ]
     },
     "execution_count": 20,
     "metadata": {},
     "output_type": "execute_result"
    }
   ],
   "source": [
    "students_data.values()"
   ]
  },
  {
   "cell_type": "code",
   "execution_count": null,
   "id": "fb6e3aec",
   "metadata": {},
   "outputs": [],
   "source": [
    "Write a Python program to filter a dictionary based on values.\n",
    "Original Dictionary:\n",
    "{'Cierra Vega': 175, 'Alden Cantrell': 180, 'Kierra Gentry': 165, 'Pierre Cox': 190}\n",
    "\n",
    "Marks greater than 170:\n",
    "\n",
    "{'Cierra Vega': 175, 'Alden Cantrell': 180, 'Pierre Cox': 190}"
   ]
  },
  {
   "cell_type": "code",
   "execution_count": 26,
   "id": "7ea4b5f9",
   "metadata": {},
   "outputs": [
    {
     "name": "stdout",
     "output_type": "stream",
     "text": [
      "{'Cierra Vega': 175, 'Alden Cantrell': 180, 'Pierre Cox': 190}\n"
     ]
    }
   ],
   "source": [
    "a={'Cierra Vega':ierra Gentry': 165, 'Pierre Cox': 190}\n",
    "print(dict(filter(lambda e:e[1]>170, 175, 'Alden Cantrell': 180, 'K a.items() ) ) )\n"
   ]
  },
  {
   "cell_type": "code",
   "execution_count": 27,
   "id": "0a44dd84",
   "metadata": {},
   "outputs": [
    {
     "name": "stdout",
     "output_type": "stream",
     "text": [
      "{'Cierra Vega': 175, 'Alden Cantrell': 180, 'Pierre Cox': 190}\n"
     ]
    }
   ],
   "source": [
    "a={'Cierra Vega': 175, 'Alden Cantrell': 180, 'Kierra Gentry': 165, 'Pierre Cox': 190}\n",
    "\n",
    "b={x:a[x] for x in a if a[x]>170}#dictionary\n",
    "print(b)"
   ]
  },
  {
   "cell_type": "code",
   "execution_count": 36,
   "id": "e6512b1f",
   "metadata": {},
   "outputs": [
    {
     "name": "stdout",
     "output_type": "stream",
     "text": [
      "{'Cierra Vega': 175, 'Alden Cantrell': 180, 'Pierre Cox': 190}\n"
     ]
    }
   ],
   "source": [
    "def fil(f):\n",
    "    if f[1]>170:\n",
    "        return True\n",
    "print(dict(filter(fil, a.items() ) ) ) "
   ]
  },
  {
   "cell_type": "code",
   "execution_count": 35,
   "id": "4c420c99",
   "metadata": {},
   "outputs": [
    {
     "name": "stdout",
     "output_type": "stream",
     "text": [
      "dict_items([('Cierra Vega', 175), ('Alden Cantrell', 180), ('Kierra Gentry', 165), ('Pierre Cox', 190)])\n"
     ]
    },
    {
     "data": {
      "text/plain": [
       "{'Cierra Vega': 175,\n",
       " 'Alden Cantrell': 180,\n",
       " 'Kierra Gentry': 165,\n",
       " 'Pierre Cox': 190}"
      ]
     },
     "execution_count": 35,
     "metadata": {},
     "output_type": "execute_result"
    }
   ],
   "source": [
    "x=a.items()\n",
    "print(x)\n",
    "dict(x)"
   ]
  },
  {
   "cell_type": "code",
   "execution_count": 37,
   "id": "bd00cfbd",
   "metadata": {},
   "outputs": [
    {
     "name": "stdout",
     "output_type": "stream",
     "text": [
      "{'Cierra Vega': 175, 'Alden Cantrell': 180, 'Pierre Cox': 190}\n"
     ]
    }
   ],
   "source": [
    "b=dict(filter(lambda x: True if x[1]>170 else False,a.items()))\n",
    "print(b)"
   ]
  },
  {
   "cell_type": "code",
   "execution_count": 41,
   "id": "edbd2fe3",
   "metadata": {},
   "outputs": [
    {
     "name": "stdout",
     "output_type": "stream",
     "text": [
      "['automobiles', 'Honda', 'Benz', 'Suzuki', 'Morris Garages']\n",
      "[11, 5, 4, 6, 14]\n"
     ]
    }
   ],
   "source": [
    "# Example on list comprehension\n",
    "\n",
    "l1 = [\"automobiles\", \"Honda\", \"Benz\", \"Suzuki\", \"Morris Garages\" ]\n",
    "\n",
    "# Create a list consisting of length of each element from the above list\n",
    "\n",
    "l2 = [len(i) for i in l1]\n",
    "\n",
    "print(l1)\n",
    "print(l2)"
   ]
  },
  {
   "cell_type": "code",
   "execution_count": 39,
   "id": "df04d355",
   "metadata": {},
   "outputs": [
    {
     "name": "stdout",
     "output_type": "stream",
     "text": [
      "automobiles  -  11\n",
      "Honda  -  5\n",
      "Benz  -  4\n",
      "Suzuki  -  6\n",
      "Morris Garages  -  14\n"
     ]
    }
   ],
   "source": [
    "for i,j in zip(l1,l2):\n",
    "    print(i, \" - \", j)"
   ]
  },
  {
   "cell_type": "code",
   "execution_count": 42,
   "id": "6c28eff8",
   "metadata": {},
   "outputs": [
    {
     "name": "stdout",
     "output_type": "stream",
     "text": [
      "automobiles  -  11\n",
      "Honda  -  5\n",
      "Benz  -  4\n",
      "Suzuki  -  6\n",
      "Morris Garages  -  14\n"
     ]
    }
   ],
   "source": [
    "for i in range(len(l1)):\n",
    "    print(l1[i], \" - \", l2[i])"
   ]
  },
  {
   "cell_type": "code",
   "execution_count": 45,
   "id": "7c7fb97c",
   "metadata": {},
   "outputs": [
    {
     "data": {
      "text/plain": [
       "[('automobiles', 11, 6), ('Honda', 5, 7), ('Benz', 4, 8)]"
      ]
     },
     "execution_count": 45,
     "metadata": {},
     "output_type": "execute_result"
    }
   ],
   "source": [
    "l3=[6,7,8]\n",
    "list(zip(l1,l2,l3))"
   ]
  },
  {
   "cell_type": "code",
   "execution_count": null,
   "id": "fae4777a",
   "metadata": {},
   "outputs": [],
   "source": []
  }
 ],
 "metadata": {
  "kernelspec": {
   "display_name": "Python 3",
   "language": "python",
   "name": "python3"
  },
  "language_info": {
   "codemirror_mode": {
    "name": "ipython",
    "version": 3
   },
   "file_extension": ".py",
   "mimetype": "text/x-python",
   "name": "python",
   "nbconvert_exporter": "python",
   "pygments_lexer": "ipython3",
   "version": "3.8.8"
  }
 },
 "nbformat": 4,
 "nbformat_minor": 5
}
