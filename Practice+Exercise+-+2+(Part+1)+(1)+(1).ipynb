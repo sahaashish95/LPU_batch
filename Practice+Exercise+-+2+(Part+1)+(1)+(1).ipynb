{
 "cells": [
  {
   "cell_type": "code",
   "execution_count": 2,
   "metadata": {},
   "outputs": [],
   "source": [
    "# List of order ID’s which are processed \n",
    "processed_orders = [1152, 1154, 1155, 1156, 1157, 1160, 1161, 1162, 1166, 1169, 1170, 1172, 1176, 1050, 1178, 1051, 1052, 1054, 1058, 1060, 1061, 1062, 1065, 1066, 1067, 1068, 1069, 1076, 1077, 1080, 1081, 1083, 1091, 1085, 1088, 1089, 1131, 1092, 1094, 1095, 1099, 1102, 1103, 1104, 1106, 1107, 1108, 1109, 1111, 1117, 1119, 1121, 1150, 1128, 1129, 1136, 1137, 1139, 1140, 1141, 1144, 1148, 1124]\n",
    "\n",
    "# List of order ID’s which are returned\n",
    "returned_orders = [1153, 1158, 1159, 1163, 1164, 1165, 1167, 1168, 1171, 1173, 1174, 1175, 1177, 1053, 1055, 1056, 1057, 1059, 1063, 1064, 1070, 1071, 1072, 1073, 1074, 1075, 1078, 1079, 1082, 1084, 1086, 1087, 1090, 1093, 1096, 1097, 1098, 1100, 1101, 1105, 1110, 1112, 1113, 1114, 1115, 1116, 1118, 1120, 1122, 1123, 1125, 1126, 1127, 1130, 1132, 1133, 1134, 1135, 1138, 1142, 1143, 1145, 1146, 1147, 1149, 1151]\n",
    "\n",
    "# Consider the information available in the above two lists and answer the question given below"
   ]
  },
  {
   "cell_type": "markdown",
   "metadata": {},
   "source": [
    "#### Count the total number of orders [ Orders include both processed and returned orders]\n",
    "\n",
    "- 63\n",
    "- 66\n",
    "- 126\n",
    "- 129"
   ]
  },
  {
   "cell_type": "code",
   "execution_count": 5,
   "metadata": {},
   "outputs": [
    {
     "name": "stdout",
     "output_type": "stream",
     "text": [
      "129\n"
     ]
    }
   ],
   "source": [
    "# Type your code here\n",
    "#predefine, scratch\n",
    "#print(len(processed_orders) + len(returned_orders))\n",
    "count=0\n",
    "for i in processed_orders:\n",
    "    count+=1\n",
    "for i in returned_orders :\n",
    "    count+=1\n",
    "print(count)"
   ]
  },
  {
   "cell_type": "markdown",
   "metadata": {},
   "source": [
    "#### In the total orders, identify the 50th order [ Note: Assume the order ID’s are being generated in a consecutive manner]\n",
    "\n",
    "- 1152\n",
    "- 1099\n",
    "- 1154\n",
    "- 1100\n"
   ]
  },
  {
   "cell_type": "code",
   "execution_count": 6,
   "metadata": {},
   "outputs": [
    {
     "name": "stdout",
     "output_type": "stream",
     "text": [
      "1099\n"
     ]
    },
    {
     "data": {
      "text/plain": [
       "1099"
      ]
     },
     "execution_count": 6,
     "metadata": {},
     "output_type": "execute_result"
    }
   ],
   "source": [
    "# Type your code here\n",
    "total= processed_orders + returned_orders\n",
    "total.sort()\n",
    "print(total[49])\n",
    "\n",
    "1099"
   ]
  },
  {
   "cell_type": "code",
   "execution_count": null,
   "metadata": {
    "collapsed": true
   },
   "outputs": [],
   "source": []
  },
  {
   "cell_type": "code",
   "execution_count": null,
   "metadata": {
    "collapsed": true
   },
   "outputs": [],
   "source": []
  },
  {
   "cell_type": "markdown",
   "metadata": {},
   "source": [
    "#### Is 50th order a returned order or processed order?\n",
    "\n",
    "- Returned Order\n",
    "- Processed Order\n"
   ]
  },
  {
   "cell_type": "code",
   "execution_count": 8,
   "metadata": {},
   "outputs": [
    {
     "name": "stdout",
     "output_type": "stream",
     "text": [
      "Processed Order\n"
     ]
    }
   ],
   "source": [
    "if 1099 in processed_orders:\n",
    "    print('Processed Order')\n",
    "else:\n",
    "    print('Returned Order')"
   ]
  },
  {
   "cell_type": "markdown",
   "metadata": {},
   "source": [
    "#### What is the last processed order ID ? [ Note: Assume the order ID’s are being generated in a consecutive manner]\n",
    "\n",
    "- 1050\n",
    "- 1178\n",
    "- 1124\n",
    "- 1177\n",
    "\n"
   ]
  },
  {
   "cell_type": "code",
   "execution_count": 9,
   "metadata": {},
   "outputs": [
    {
     "name": "stdout",
     "output_type": "stream",
     "text": [
      "1178\n"
     ]
    }
   ],
   "source": [
    "processed_orders.sort()\n",
    "print(processed_orders[-1])"
   ]
  },
  {
   "cell_type": "code",
   "execution_count": null,
   "metadata": {
    "collapsed": true
   },
   "outputs": [],
   "source": []
  },
  {
   "cell_type": "markdown",
   "metadata": {},
   "source": [
    "#### Identify the first 4 orders which are processed?\n",
    "\n",
    "- 1152, 1154, 1155, 1156\n",
    "- 1051, 1152, 1153, 1154\n",
    "- 1050, 1051, 1052, 1054\n",
    "- 1050, 1051, 1052, 1053"
   ]
  },
  {
   "cell_type": "code",
   "execution_count": 10,
   "metadata": {},
   "outputs": [
    {
     "data": {
      "text/plain": [
       "[1050, 1051, 1052, 1054]"
      ]
     },
     "execution_count": 10,
     "metadata": {},
     "output_type": "execute_result"
    }
   ],
   "source": [
    "processed_orders[0:4]"
   ]
  },
  {
   "cell_type": "code",
   "execution_count": null,
   "metadata": {
    "collapsed": true
   },
   "outputs": [],
   "source": [
    "Python program to interchange first and last elements in a list\n",
    "Input : [12, 35, 9, 56, 24]\n",
    "Output : [24, 35, 9, 56, 12]"
   ]
  },
  {
   "cell_type": "code",
   "execution_count": 11,
   "metadata": {},
   "outputs": [
    {
     "data": {
      "text/plain": [
       "[40, 20, 30, 10]"
      ]
     },
     "execution_count": 11,
     "metadata": {},
     "output_type": "execute_result"
    }
   ],
   "source": [
    "a=[10,20,30,40]\n",
    "temp=a[0]\n",
    "a[0]=a[-1]\n",
    "a[len(a)-1]=temp\n",
    "a"
   ]
  },
  {
   "cell_type": "code",
   "execution_count": 13,
   "metadata": {},
   "outputs": [
    {
     "data": {
      "text/plain": [
       "[40, 10, 20, 30]"
      ]
     },
     "execution_count": 13,
     "metadata": {},
     "output_type": "execute_result"
    }
   ],
   "source": [
    "a=[10,20,30,40]\n",
    "list = a[-1:] + a[:-1]\n",
    "list"
   ]
  },
  {
   "cell_type": "code",
   "execution_count": null,
   "metadata": {},
   "outputs": [],
   "source": [
    "print first two maximum number and also print the sum of maximum two numbers presnt in list\n",
    "Input : [12, 35, 9, 56, 24]\n",
    "Output : [24, 35, 9, 56, 12]\n",
    "output=first two maximum number is 56,35\n",
    "and the sum of their number is 91"
   ]
  },
  {
   "cell_type": "code",
   "execution_count": 14,
   "metadata": {},
   "outputs": [
    {
     "name": "stdout",
     "output_type": "stream",
     "text": [
      "56 35\n",
      "91\n"
     ]
    }
   ],
   "source": [
    "input =[12, 35, 9, 56, 24]\n",
    "i=input\n",
    "i.sort()\n",
    "print(i[-1], i[-2])\n",
    "print(i[-1]+ i[-2])"
   ]
  },
  {
   "cell_type": "code",
   "execution_count": 15,
   "metadata": {},
   "outputs": [
    {
     "name": "stdout",
     "output_type": "stream",
     "text": [
      "[34, 78, 5, 4, 45, 24, 56, 9, 35, 12]\n"
     ]
    }
   ],
   "source": [
    "Input=[12, 35, 9, 56, 24,45,4,5,78,34]#reverse,for loop,slicing opeartion\n",
    "Input = [12,35,9,56,24,45,4,5,78,34]\n",
    "reversed_list=[]\n",
    "for i in range(len(Input)-1,-1,-1):\n",
    "    reversed_list.append(Input[i])\n",
    "print(reversed_list)"
   ]
  },
  {
   "cell_type": "code",
   "execution_count": null,
   "metadata": {},
   "outputs": [],
   "source": [
    "print first two maximum number and also print the sum of maximum two numbers presnt in list\n",
    "Input : [12, 35, 9, 98,100,100,100,56,100,23,45,100,95,98,98,56, 24]\n",
    "first two max 100,98\n",
    "sum of two max"
   ]
  },
  {
   "cell_type": "code",
   "execution_count": 1,
   "metadata": {},
   "outputs": [
    {
     "name": "stdout",
     "output_type": "stream",
     "text": [
      "[9, 12, 23, 24, 35, 45, 56, 95, 98, 100]\n",
      "100 98\n",
      "198\n"
     ]
    }
   ],
   "source": [
    "a=[12, 35, 9, 98,100,100,100,56,100,23,45,100,95,98,98,56, 24]#you can't convert set in to list\n",
    "\n",
    "a=list(set(a))\n",
    "a.sort()\n",
    "print(a)\n",
    "print(a[-1],a[-2])\n",
    "\n",
    "print(a[-1]+a[-2])"
   ]
  },
  {
   "cell_type": "code",
   "execution_count": 37,
   "metadata": {},
   "outputs": [
    {
     "name": "stdout",
     "output_type": "stream",
     "text": [
      "[9, 12, 23, 24, 35, 45, 56, 56, 95, 98, 98, 98, 100, 100, 100, 100]\n",
      "[9, 12, 23, 24, 35, 45, 56, 56, 95, 98, 98, 98, 100, 100, 100]\n",
      "[9, 12, 23, 24, 35, 45, 56, 56, 95, 98, 98, 98, 100, 100]\n",
      "[9, 12, 23, 24, 35, 45, 56, 56, 95, 98, 98, 98, 100]\n",
      "[9, 12, 23, 24, 35, 45, 56, 56, 95, 98, 98, 98]\n",
      "100 98\n",
      "198\n"
     ]
    }
   ],
   "source": [
    "Input = [12, 35, 9, 98,100,100,100,56,100,23,45,100,95,98,98,56, 24]\n",
    "Input.sort()\n",
    "a = Input[-1]#100\n",
    "for i in Input :\n",
    "    if a in Input :\n",
    "        Input.remove(a)\n",
    "        print(Input)\n",
    "b=Input[-1]#98\n",
    "print(a,b)\n",
    "print(a+b)"
   ]
  },
  {
   "cell_type": "code",
   "execution_count": null,
   "metadata": {},
   "outputs": [],
   "source": [
    "i want to create list by taking input from user \n",
    "1 how many element he want to enter in list\n",
    "2 suppose he give 3 then i need to take 3 input from user and create a list using that 3 input\n"
   ]
  },
  {
   "cell_type": "code",
   "execution_count": null,
   "metadata": {},
   "outputs": [],
   "source": [
    "4\n",
    "['a','b','c',d]"
   ]
  },
  {
   "cell_type": "code",
   "execution_count": 2,
   "metadata": {
    "scrolled": true
   },
   "outputs": [
    {
     "name": "stdout",
     "output_type": "stream",
     "text": [
      "Enter no.of elemnt : 3\n",
      "2\n",
      "3\n",
      "5\n",
      "[2, 3, 5]\n"
     ]
    }
   ],
   "source": [
    "myList = []\n",
    "\n",
    "n = int(input(\"Enter no.of elemnt : \"))\n",
    "\n",
    "for i in range(0, n):\n",
    "    elemnt= int(input())\n",
    "    myList.append(elemnt)\n",
    "print(myList)"
   ]
  },
  {
   "cell_type": "code",
   "execution_count": 5,
   "metadata": {},
   "outputs": [
    {
     "name": "stdout",
     "output_type": "stream",
     "text": [
      "3\n",
      "<class 'int'>\n",
      "a\n",
      "b\n",
      "v\n"
     ]
    },
    {
     "data": {
      "text/plain": [
       "['a', 'b', 'v']"
      ]
     },
     "execution_count": 5,
     "metadata": {},
     "output_type": "execute_result"
    }
   ],
   "source": [
    "length=int(input())\n",
    "print(type(length))\n",
    "l=[]\n",
    "for i in range(0,length):\n",
    "    a=input()\n",
    "    l.append(a)\n",
    "l"
   ]
  },
  {
   "cell_type": "code",
   "execution_count": null,
   "metadata": {},
   "outputs": [],
   "source": []
  }
 ],
 "metadata": {
  "kernelspec": {
   "display_name": "Python 3",
   "language": "python",
   "name": "python3"
  },
  "language_info": {
   "codemirror_mode": {
    "name": "ipython",
    "version": 3
   },
   "file_extension": ".py",
   "mimetype": "text/x-python",
   "name": "python",
   "nbconvert_exporter": "python",
   "pygments_lexer": "ipython3",
   "version": "3.8.8"
  }
 },
 "nbformat": 4,
 "nbformat_minor": 2
}
